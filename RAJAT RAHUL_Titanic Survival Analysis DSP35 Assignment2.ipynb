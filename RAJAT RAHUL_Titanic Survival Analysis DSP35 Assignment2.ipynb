{
 "cells": [
  {
   "cell_type": "code",
   "execution_count": 1,
   "metadata": {},
   "outputs": [],
   "source": [
    "#import libraries\n",
    "%matplotlib inline\n",
    "import numpy as np\n",
    "import pandas as pd"
   ]
  },
  {
   "cell_type": "code",
   "execution_count": 2,
   "metadata": {},
   "outputs": [],
   "source": [
    "#import data\n",
    "data_titanic=pd.read_csv('train.csv')"
   ]
  },
  {
   "cell_type": "code",
   "execution_count": 3,
   "metadata": {},
   "outputs": [
    {
     "data": {
      "text/html": [
       "<div>\n",
       "<style scoped>\n",
       "    .dataframe tbody tr th:only-of-type {\n",
       "        vertical-align: middle;\n",
       "    }\n",
       "\n",
       "    .dataframe tbody tr th {\n",
       "        vertical-align: top;\n",
       "    }\n",
       "\n",
       "    .dataframe thead th {\n",
       "        text-align: right;\n",
       "    }\n",
       "</style>\n",
       "<table border=\"1\" class=\"dataframe\">\n",
       "  <thead>\n",
       "    <tr style=\"text-align: right;\">\n",
       "      <th></th>\n",
       "      <th>PassengerId</th>\n",
       "      <th>Survived</th>\n",
       "      <th>Pclass</th>\n",
       "      <th>Name</th>\n",
       "      <th>Sex</th>\n",
       "      <th>Age</th>\n",
       "      <th>SibSp</th>\n",
       "      <th>Parch</th>\n",
       "      <th>Ticket</th>\n",
       "      <th>Fare</th>\n",
       "      <th>Cabin</th>\n",
       "      <th>Embarked</th>\n",
       "    </tr>\n",
       "  </thead>\n",
       "  <tbody>\n",
       "    <tr>\n",
       "      <th>0</th>\n",
       "      <td>1</td>\n",
       "      <td>0</td>\n",
       "      <td>3</td>\n",
       "      <td>Braund, Mr. Owen Harris</td>\n",
       "      <td>male</td>\n",
       "      <td>22.0</td>\n",
       "      <td>1</td>\n",
       "      <td>0</td>\n",
       "      <td>A/5 21171</td>\n",
       "      <td>7.2500</td>\n",
       "      <td>NaN</td>\n",
       "      <td>S</td>\n",
       "    </tr>\n",
       "    <tr>\n",
       "      <th>1</th>\n",
       "      <td>2</td>\n",
       "      <td>1</td>\n",
       "      <td>1</td>\n",
       "      <td>Cumings, Mrs. John Bradley (Florence Briggs Th...</td>\n",
       "      <td>female</td>\n",
       "      <td>38.0</td>\n",
       "      <td>1</td>\n",
       "      <td>0</td>\n",
       "      <td>PC 17599</td>\n",
       "      <td>71.2833</td>\n",
       "      <td>C85</td>\n",
       "      <td>C</td>\n",
       "    </tr>\n",
       "    <tr>\n",
       "      <th>2</th>\n",
       "      <td>3</td>\n",
       "      <td>1</td>\n",
       "      <td>3</td>\n",
       "      <td>Heikkinen, Miss. Laina</td>\n",
       "      <td>female</td>\n",
       "      <td>26.0</td>\n",
       "      <td>0</td>\n",
       "      <td>0</td>\n",
       "      <td>STON/O2. 3101282</td>\n",
       "      <td>7.9250</td>\n",
       "      <td>NaN</td>\n",
       "      <td>S</td>\n",
       "    </tr>\n",
       "    <tr>\n",
       "      <th>3</th>\n",
       "      <td>4</td>\n",
       "      <td>1</td>\n",
       "      <td>1</td>\n",
       "      <td>Futrelle, Mrs. Jacques Heath (Lily May Peel)</td>\n",
       "      <td>female</td>\n",
       "      <td>35.0</td>\n",
       "      <td>1</td>\n",
       "      <td>0</td>\n",
       "      <td>113803</td>\n",
       "      <td>53.1000</td>\n",
       "      <td>C123</td>\n",
       "      <td>S</td>\n",
       "    </tr>\n",
       "    <tr>\n",
       "      <th>4</th>\n",
       "      <td>5</td>\n",
       "      <td>0</td>\n",
       "      <td>3</td>\n",
       "      <td>Allen, Mr. William Henry</td>\n",
       "      <td>male</td>\n",
       "      <td>35.0</td>\n",
       "      <td>0</td>\n",
       "      <td>0</td>\n",
       "      <td>373450</td>\n",
       "      <td>8.0500</td>\n",
       "      <td>NaN</td>\n",
       "      <td>S</td>\n",
       "    </tr>\n",
       "  </tbody>\n",
       "</table>\n",
       "</div>"
      ],
      "text/plain": [
       "   PassengerId  Survived  Pclass  \\\n",
       "0            1         0       3   \n",
       "1            2         1       1   \n",
       "2            3         1       3   \n",
       "3            4         1       1   \n",
       "4            5         0       3   \n",
       "\n",
       "                                                Name     Sex   Age  SibSp  \\\n",
       "0                            Braund, Mr. Owen Harris    male  22.0      1   \n",
       "1  Cumings, Mrs. John Bradley (Florence Briggs Th...  female  38.0      1   \n",
       "2                             Heikkinen, Miss. Laina  female  26.0      0   \n",
       "3       Futrelle, Mrs. Jacques Heath (Lily May Peel)  female  35.0      1   \n",
       "4                           Allen, Mr. William Henry    male  35.0      0   \n",
       "\n",
       "   Parch            Ticket     Fare Cabin Embarked  \n",
       "0      0         A/5 21171   7.2500   NaN        S  \n",
       "1      0          PC 17599  71.2833   C85        C  \n",
       "2      0  STON/O2. 3101282   7.9250   NaN        S  \n",
       "3      0            113803  53.1000  C123        S  \n",
       "4      0            373450   8.0500   NaN        S  "
      ]
     },
     "execution_count": 3,
     "metadata": {},
     "output_type": "execute_result"
    }
   ],
   "source": [
    "#print first 5 rows of the data\n",
    "data_titanic.head()"
   ]
  },
  {
   "cell_type": "code",
   "execution_count": 4,
   "metadata": {},
   "outputs": [
    {
     "name": "stdout",
     "output_type": "stream",
     "text": [
      "<class 'pandas.core.frame.DataFrame'>\n",
      "RangeIndex: 891 entries, 0 to 890\n",
      "Data columns (total 12 columns):\n",
      " #   Column       Non-Null Count  Dtype  \n",
      "---  ------       --------------  -----  \n",
      " 0   PassengerId  891 non-null    int64  \n",
      " 1   Survived     891 non-null    int64  \n",
      " 2   Pclass       891 non-null    int64  \n",
      " 3   Name         891 non-null    object \n",
      " 4   Sex          891 non-null    object \n",
      " 5   Age          714 non-null    float64\n",
      " 6   SibSp        891 non-null    int64  \n",
      " 7   Parch        891 non-null    int64  \n",
      " 8   Ticket       891 non-null    object \n",
      " 9   Fare         891 non-null    float64\n",
      " 10  Cabin        204 non-null    object \n",
      " 11  Embarked     889 non-null    object \n",
      "dtypes: float64(2), int64(5), object(5)\n",
      "memory usage: 83.7+ KB\n"
     ]
    }
   ],
   "source": [
    "#print the dtype and non null count\n",
    "data_titanic.info()"
   ]
  },
  {
   "cell_type": "code",
   "execution_count": 5,
   "metadata": {},
   "outputs": [
    {
     "data": {
      "text/plain": [
       "2"
      ]
     },
     "execution_count": 5,
     "metadata": {},
     "output_type": "execute_result"
    }
   ],
   "source": [
    "data_titanic.Embarked.isna().sum()"
   ]
  },
  {
   "cell_type": "code",
   "execution_count": 6,
   "metadata": {},
   "outputs": [
    {
     "name": "stdout",
     "output_type": "stream",
     "text": [
      "number of taining samples 757\n",
      "number of test samples 134\n",
      "891\n"
     ]
    }
   ],
   "source": [
    "#print the dimensions of train and test data\n",
    "from sklearn.model_selection import train_test_split\n",
    "y_data=data_titanic.Survived\n",
    "x_data=data_titanic.drop('Survived',axis=1)\n",
    "x_train,x_test,y_train,y_test=train_test_split(x_data,y_data,test_size=0.15,random_state=1)\n",
    "print('number of taining samples',x_train.shape[0])\n",
    "print('number of test samples',x_test.shape[0])\n",
    "print(data_titanic.shape[0])"
   ]
  },
  {
   "cell_type": "code",
   "execution_count": 7,
   "metadata": {},
   "outputs": [
    {
     "data": {
      "text/html": [
       "<div>\n",
       "<style scoped>\n",
       "    .dataframe tbody tr th:only-of-type {\n",
       "        vertical-align: middle;\n",
       "    }\n",
       "\n",
       "    .dataframe tbody tr th {\n",
       "        vertical-align: top;\n",
       "    }\n",
       "\n",
       "    .dataframe thead th {\n",
       "        text-align: right;\n",
       "    }\n",
       "</style>\n",
       "<table border=\"1\" class=\"dataframe\">\n",
       "  <thead>\n",
       "    <tr style=\"text-align: right;\">\n",
       "      <th></th>\n",
       "      <th>PassengerId</th>\n",
       "      <th>Survived</th>\n",
       "      <th>Pclass</th>\n",
       "      <th>Age</th>\n",
       "      <th>SibSp</th>\n",
       "      <th>Parch</th>\n",
       "      <th>Fare</th>\n",
       "    </tr>\n",
       "  </thead>\n",
       "  <tbody>\n",
       "    <tr>\n",
       "      <th>count</th>\n",
       "      <td>891.000000</td>\n",
       "      <td>891.000000</td>\n",
       "      <td>891.000000</td>\n",
       "      <td>714.000000</td>\n",
       "      <td>891.000000</td>\n",
       "      <td>891.000000</td>\n",
       "      <td>891.000000</td>\n",
       "    </tr>\n",
       "    <tr>\n",
       "      <th>mean</th>\n",
       "      <td>446.000000</td>\n",
       "      <td>0.383838</td>\n",
       "      <td>2.308642</td>\n",
       "      <td>29.699118</td>\n",
       "      <td>0.523008</td>\n",
       "      <td>0.381594</td>\n",
       "      <td>32.204208</td>\n",
       "    </tr>\n",
       "    <tr>\n",
       "      <th>std</th>\n",
       "      <td>257.353842</td>\n",
       "      <td>0.486592</td>\n",
       "      <td>0.836071</td>\n",
       "      <td>14.526497</td>\n",
       "      <td>1.102743</td>\n",
       "      <td>0.806057</td>\n",
       "      <td>49.693429</td>\n",
       "    </tr>\n",
       "    <tr>\n",
       "      <th>min</th>\n",
       "      <td>1.000000</td>\n",
       "      <td>0.000000</td>\n",
       "      <td>1.000000</td>\n",
       "      <td>0.420000</td>\n",
       "      <td>0.000000</td>\n",
       "      <td>0.000000</td>\n",
       "      <td>0.000000</td>\n",
       "    </tr>\n",
       "    <tr>\n",
       "      <th>25%</th>\n",
       "      <td>223.500000</td>\n",
       "      <td>0.000000</td>\n",
       "      <td>2.000000</td>\n",
       "      <td>20.125000</td>\n",
       "      <td>0.000000</td>\n",
       "      <td>0.000000</td>\n",
       "      <td>7.910400</td>\n",
       "    </tr>\n",
       "    <tr>\n",
       "      <th>50%</th>\n",
       "      <td>446.000000</td>\n",
       "      <td>0.000000</td>\n",
       "      <td>3.000000</td>\n",
       "      <td>28.000000</td>\n",
       "      <td>0.000000</td>\n",
       "      <td>0.000000</td>\n",
       "      <td>14.454200</td>\n",
       "    </tr>\n",
       "    <tr>\n",
       "      <th>75%</th>\n",
       "      <td>668.500000</td>\n",
       "      <td>1.000000</td>\n",
       "      <td>3.000000</td>\n",
       "      <td>38.000000</td>\n",
       "      <td>1.000000</td>\n",
       "      <td>0.000000</td>\n",
       "      <td>31.000000</td>\n",
       "    </tr>\n",
       "    <tr>\n",
       "      <th>max</th>\n",
       "      <td>891.000000</td>\n",
       "      <td>1.000000</td>\n",
       "      <td>3.000000</td>\n",
       "      <td>80.000000</td>\n",
       "      <td>8.000000</td>\n",
       "      <td>6.000000</td>\n",
       "      <td>512.329200</td>\n",
       "    </tr>\n",
       "  </tbody>\n",
       "</table>\n",
       "</div>"
      ],
      "text/plain": [
       "       PassengerId    Survived      Pclass         Age       SibSp  \\\n",
       "count   891.000000  891.000000  891.000000  714.000000  891.000000   \n",
       "mean    446.000000    0.383838    2.308642   29.699118    0.523008   \n",
       "std     257.353842    0.486592    0.836071   14.526497    1.102743   \n",
       "min       1.000000    0.000000    1.000000    0.420000    0.000000   \n",
       "25%     223.500000    0.000000    2.000000   20.125000    0.000000   \n",
       "50%     446.000000    0.000000    3.000000   28.000000    0.000000   \n",
       "75%     668.500000    1.000000    3.000000   38.000000    1.000000   \n",
       "max     891.000000    1.000000    3.000000   80.000000    8.000000   \n",
       "\n",
       "            Parch        Fare  \n",
       "count  891.000000  891.000000  \n",
       "mean     0.381594   32.204208  \n",
       "std      0.806057   49.693429  \n",
       "min      0.000000    0.000000  \n",
       "25%      0.000000    7.910400  \n",
       "50%      0.000000   14.454200  \n",
       "75%      0.000000   31.000000  \n",
       "max      6.000000  512.329200  "
      ]
     },
     "execution_count": 7,
     "metadata": {},
     "output_type": "execute_result"
    }
   ],
   "source": [
    "#run statistical summmary for numeric variables and report your findings for each variable\n",
    "data_titanic.describe()"
   ]
  },
  {
   "cell_type": "code",
   "execution_count": 8,
   "metadata": {},
   "outputs": [
    {
     "data": {
      "text/plain": [
       "177"
      ]
     },
     "execution_count": 8,
     "metadata": {},
     "output_type": "execute_result"
    }
   ],
   "source": [
    "#check the missing values for each variable\n",
    "data_titanic.Age.isna().sum()"
   ]
  },
  {
   "cell_type": "code",
   "execution_count": 9,
   "metadata": {},
   "outputs": [
    {
     "data": {
      "text/plain": [
       "2"
      ]
     },
     "execution_count": 9,
     "metadata": {},
     "output_type": "execute_result"
    }
   ],
   "source": [
    "data_titanic.Embarked.isna().sum()"
   ]
  },
  {
   "cell_type": "code",
   "execution_count": 10,
   "metadata": {},
   "outputs": [
    {
     "data": {
      "text/html": [
       "<div>\n",
       "<style scoped>\n",
       "    .dataframe tbody tr th:only-of-type {\n",
       "        vertical-align: middle;\n",
       "    }\n",
       "\n",
       "    .dataframe tbody tr th {\n",
       "        vertical-align: top;\n",
       "    }\n",
       "\n",
       "    .dataframe thead th {\n",
       "        text-align: right;\n",
       "    }\n",
       "</style>\n",
       "<table border=\"1\" class=\"dataframe\">\n",
       "  <thead>\n",
       "    <tr style=\"text-align: right;\">\n",
       "      <th></th>\n",
       "      <th>0</th>\n",
       "      <th>1</th>\n",
       "    </tr>\n",
       "  </thead>\n",
       "  <tbody>\n",
       "    <tr>\n",
       "      <th>0</th>\n",
       "      <td>1</td>\n",
       "      <td>0</td>\n",
       "    </tr>\n",
       "    <tr>\n",
       "      <th>1</th>\n",
       "      <td>0</td>\n",
       "      <td>1</td>\n",
       "    </tr>\n",
       "    <tr>\n",
       "      <th>2</th>\n",
       "      <td>0</td>\n",
       "      <td>1</td>\n",
       "    </tr>\n",
       "    <tr>\n",
       "      <th>3</th>\n",
       "      <td>0</td>\n",
       "      <td>1</td>\n",
       "    </tr>\n",
       "    <tr>\n",
       "      <th>4</th>\n",
       "      <td>1</td>\n",
       "      <td>0</td>\n",
       "    </tr>\n",
       "    <tr>\n",
       "      <th>...</th>\n",
       "      <td>...</td>\n",
       "      <td>...</td>\n",
       "    </tr>\n",
       "    <tr>\n",
       "      <th>886</th>\n",
       "      <td>1</td>\n",
       "      <td>0</td>\n",
       "    </tr>\n",
       "    <tr>\n",
       "      <th>887</th>\n",
       "      <td>0</td>\n",
       "      <td>1</td>\n",
       "    </tr>\n",
       "    <tr>\n",
       "      <th>888</th>\n",
       "      <td>1</td>\n",
       "      <td>0</td>\n",
       "    </tr>\n",
       "    <tr>\n",
       "      <th>889</th>\n",
       "      <td>0</td>\n",
       "      <td>1</td>\n",
       "    </tr>\n",
       "    <tr>\n",
       "      <th>890</th>\n",
       "      <td>1</td>\n",
       "      <td>0</td>\n",
       "    </tr>\n",
       "  </tbody>\n",
       "</table>\n",
       "<p>891 rows × 2 columns</p>\n",
       "</div>"
      ],
      "text/plain": [
       "     0  1\n",
       "0    1  0\n",
       "1    0  1\n",
       "2    0  1\n",
       "3    0  1\n",
       "4    1  0\n",
       "..  .. ..\n",
       "886  1  0\n",
       "887  0  1\n",
       "888  1  0\n",
       "889  0  1\n",
       "890  1  0\n",
       "\n",
       "[891 rows x 2 columns]"
      ]
     },
     "execution_count": 10,
     "metadata": {},
     "output_type": "execute_result"
    }
   ],
   "source": [
    "dum_survive=pd.get_dummies(data_titanic.Survived)\n",
    "dum_class=pd.get_dummies(data_titanic.Pclass)\n",
    "dum_survive"
   ]
  },
  {
   "cell_type": "markdown",
   "metadata": {},
   "source": [
    "## Data Vizualization using matplotlib and seaborn packages"
   ]
  },
  {
   "cell_type": "code",
   "execution_count": 11,
   "metadata": {},
   "outputs": [],
   "source": [
    "#import vizualization libraries\n",
    "import seaborn as sns\n",
    "import matplotlib.pyplot as plt"
   ]
  },
  {
   "cell_type": "code",
   "execution_count": 12,
   "metadata": {},
   "outputs": [
    {
     "data": {
      "text/plain": [
       "[Text(0, 0, 'Dead'), Text(1, 0, 'Alive')]"
      ]
     },
     "execution_count": 12,
     "metadata": {},
     "output_type": "execute_result"
    },
    {
     "data": {
      "image/png": "[encoded data removed]",
      "text/plain": [
       "<Figure size 720x432 with 1 Axes>"
      ]
     },
     "metadata": {
      "needs_background": "light"
     },
     "output_type": "display_data"
    }
   ],
   "source": [
    "plt.figure(figsize=(10,6))\n",
    "g=data_titanic['Survived'].value_counts().plot(kind='bar')\n",
    "g.set_xticklabels([\"Dead\",\"Alive\"])"
   ]
  },
  {
   "cell_type": "code",
   "execution_count": 13,
   "metadata": {},
   "outputs": [
    {
     "data": {
      "text/plain": [
       "[Text(0, 0, 'Dead'), Text(1, 0, 'Alive')]"
      ]
     },
     "execution_count": 13,
     "metadata": {},
     "output_type": "execute_result"
    },
    {
     "data": {
      "image/png": "[encoded data removed]",
      "text/plain": [
       "<Figure size 720x432 with 1 Axes>"
      ]
     },
     "metadata": {
      "needs_background": "light"
     },
     "output_type": "display_data"
    }
   ],
   "source": [
    "#create a function called bar_chart that can generate different bars for people who survived vs people who didnt survive \n",
    "plt.figure(figsize=(10,6))\n",
    "g=sns.countplot(x='Survived',data=data_titanic)\n",
    "sns.set_theme(style='darkgrid')\n",
    "g.set_xticklabels([\"Dead\",\"Alive\"])"
   ]
  },
  {
   "cell_type": "code",
   "execution_count": 14,
   "metadata": {},
   "outputs": [
    {
     "data": {
      "text/plain": [
       "[Text(0, 0, 'Dead'), Text(1, 0, 'Alive')]"
      ]
     },
     "execution_count": 14,
     "metadata": {},
     "output_type": "execute_result"
    },
    {
     "data": {
      "image/png": "[encoded data removed]",
      "text/plain": [
       "<Figure size 720x432 with 1 Axes>"
      ]
     },
     "metadata": {},
     "output_type": "display_data"
    }
   ],
   "source": [
    "#use the function bar_chart for variable sex, sample output is given below\n",
    "plt.figure(figsize=(10,6))\n",
    "g=sns.countplot(x='Survived',hue=\"Sex\",data=data_titanic)\n",
    "sns.set_theme(style='darkgrid')\n",
    "g.set_xticklabels([\"Dead\",\"Alive\"])\n"
   ]
  },
  {
   "cell_type": "code",
   "execution_count": 15,
   "metadata": {},
   "outputs": [
    {
     "data": {
      "text/plain": [
       "[Text(0, 0, 'Dead'), Text(1, 0, 'Alive')]"
      ]
     },
     "execution_count": 15,
     "metadata": {},
     "output_type": "execute_result"
    },
    {
     "data": {
      "image/png": "[encoded data removed]",
      "text/plain": [
       "<Figure size 720x432 with 1 Axes>"
      ]
     },
     "metadata": {},
     "output_type": "display_data"
    }
   ],
   "source": [
    "#use the function bar_chart for variable Pclass, sample output is given below\n",
    "plt.figure(figsize=(10,6))\n",
    "g=sns.countplot(x='Survived',hue=\"Pclass\",dodge=True,data=data_titanic)\n",
    "sns.set_theme(style='darkgrid')\n",
    "g.set_xticklabels([\"Dead\",\"Alive\"])"
   ]
  },
  {
   "cell_type": "code",
   "execution_count": 16,
   "metadata": {},
   "outputs": [
    {
     "data": {
      "text/plain": [
       "[Text(0, 0, 'Dead'), Text(1, 0, 'Alive')]"
      ]
     },
     "execution_count": 16,
     "metadata": {},
     "output_type": "execute_result"
    },
    {
     "data": {
      "image/png": "[encoded data removed]",
      "text/plain": [
       "<Figure size 720x432 with 1 Axes>"
      ]
     },
     "metadata": {},
     "output_type": "display_data"
    }
   ],
   "source": [
    "#use the function bar_chart for variable SibSp, sample output is given below\n",
    "plt.figure(figsize=(10,6))\n",
    "g=sns.countplot(x='Survived',hue=\"SibSp\",dodge=True,data=data_titanic)\n",
    "sns.set_theme(style='darkgrid')\n",
    "g.set_xticklabels([\"Dead\",\"Alive\"])"
   ]
  },
  {
   "cell_type": "code",
   "execution_count": 17,
   "metadata": {
    "scrolled": true
   },
   "outputs": [
    {
     "data": {
      "text/plain": [
       "[Text(0, 0, 'Dead'), Text(1, 0, 'Alive')]"
      ]
     },
     "execution_count": 17,
     "metadata": {},
     "output_type": "execute_result"
    },
    {
     "data": {
      "image/png": "[encoded data removed]",
      "text/plain": [
       "<Figure size 648x288 with 1 Axes>"
      ]
     },
     "metadata": {},
     "output_type": "display_data"
    }
   ],
   "source": [
    "#use the function bar_chart for variable Parch, sample output is given below\n",
    "plt.figure(figsize=(9,4))\n",
    "g=sns.countplot(x='Survived',hue=\"Parch\",dodge=True,data=data_titanic)\n",
    "sns.set_theme(style='darkgrid')\n",
    "g.set_xticklabels([\"Dead\",\"Alive\"])"
   ]
  },
  {
   "cell_type": "code",
   "execution_count": 18,
   "metadata": {},
   "outputs": [
    {
     "data": {
      "text/plain": [
       "[Text(0, 0, 'Dead'), Text(1, 0, 'Alive')]"
      ]
     },
     "execution_count": 18,
     "metadata": {},
     "output_type": "execute_result"
    },
    {
     "data": {
      "image/png": "[encoded data removed]",
      "text/plain": [
       "<Figure size 720x432 with 1 Axes>"
      ]
     },
     "metadata": {},
     "output_type": "display_data"
    }
   ],
   "source": [
    "#use the function bar_chart for variable Embarked, sample output is given below\n",
    "plt.figure(figsize=(10,6))\n",
    "g=sns.countplot(x='Survived',hue=\"Embarked\",dodge=True,data=data_titanic)\n",
    "sns.set_theme(style='darkgrid')\n",
    "g.set_xticklabels([\"Dead\",\"Alive\"])"
   ]
  },
  {
   "cell_type": "markdown",
   "metadata": {},
   "source": [
    "## Feature Engineering"
   ]
  },
  {
   "cell_type": "code",
   "execution_count": 19,
   "metadata": {},
   "outputs": [
    {
     "data": {
      "text/plain": [
       "0        Mr.\n",
       "1       Mrs.\n",
       "2      Miss.\n",
       "3       Mrs.\n",
       "4        Mr.\n",
       "       ...  \n",
       "886     Rev.\n",
       "887    Miss.\n",
       "888    Miss.\n",
       "889      Mr.\n",
       "890      Mr.\n",
       "Name: Title, Length: 891, dtype: object"
      ]
     },
     "execution_count": 19,
     "metadata": {},
     "output_type": "execute_result"
    }
   ],
   "source": [
    "#trick question\n",
    "#use str.extract to extract the salutations from the Name feature and store them in a new vairable called Title\n",
    "data_titanic['Title']=data_titanic['Name'].str.extract('([A-Za-z]+\\.)')\n",
    "data_titanic.Title"
   ]
  },
  {
   "cell_type": "code",
   "execution_count": 20,
   "metadata": {},
   "outputs": [
    {
     "data": {
      "text/plain": [
       "Mr.          517\n",
       "Miss.        182\n",
       "Mrs.         125\n",
       "Master.       40\n",
       "Dr.            7\n",
       "Rev.           6\n",
       "Major.         2\n",
       "Col.           2\n",
       "Mlle.          2\n",
       "Sir.           1\n",
       "Mme.           1\n",
       "Capt.          1\n",
       "Jonkheer.      1\n",
       "Lady.          1\n",
       "Don.           1\n",
       "Ms.            1\n",
       "Countess.      1\n",
       "Name: Title, dtype: int64"
      ]
     },
     "execution_count": 20,
     "metadata": {},
     "output_type": "execute_result"
    }
   ],
   "source": [
    "#print the frequency count of the new variable Title\n",
    "data_titanic.Title.value_counts()"
   ]
  },
  {
   "cell_type": "code",
   "execution_count": 21,
   "metadata": {},
   "outputs": [
    {
     "data": {
      "text/plain": [
       "array([12, 13,  9, 13, 12, 12, 12,  8, 13, 13,  9,  9, 12, 12,  9, 13,  8,\n",
       "       12, 13, 13, 12, 12,  9, 12,  9, 13, 12, 12,  9, 12,  3, 13,  9, 12,\n",
       "       12, 12, 12, 12,  9,  9, 13, 13, 12,  9,  9, 12, 12,  9, 12, 13,  8,\n",
       "       12, 13, 13, 12, 12,  9, 12,  9,  8, 12,  9, 12,  8, 12,  8, 13, 12,\n",
       "        9, 12, 12,  9, 12, 12, 12, 12, 12, 12,  8,  9, 12, 12,  9, 12,  9,\n",
       "       13, 12, 12,  9, 12, 12, 12, 12, 12, 12, 12, 12, 12, 13, 12,  9, 12,\n",
       "       12, 12, 12, 12,  9, 12, 12,  9, 12,  9, 12,  9,  9, 12, 12, 12, 12,\n",
       "        9, 12, 12, 12,  9, 12,  8, 12, 12,  9, 12, 12, 12, 13, 13, 12, 12,\n",
       "        9, 12, 12, 12, 13,  9, 13, 12, 12, 12, 12,  9, 12, 15, 15, 13, 12,\n",
       "       12, 12, 12,  9, 12, 12,  8, 12, 13, 12, 12,  8,  8, 13, 13, 12, 12,\n",
       "       12,  8,  9, 12, 12, 12,  8,  9, 12, 12,  9, 12,  8,  8,  9, 12, 13,\n",
       "       12, 12, 12, 13, 12,  9,  8, 13,  9, 12, 12,  9,  9, 12, 12, 12, 12,\n",
       "       12,  9, 12, 12,  9, 12, 12,  9, 12, 12, 12,  9,  9, 12,  9, 12, 12,\n",
       "       12, 12, 12, 12, 12, 12, 12, 12,  9, 13, 12, 12,  9, 12,  9, 12,  9,\n",
       "       12, 12,  9,  9, 12, 12, 12,  4,  9, 13, 12, 15, 12, 13, 12, 12, 13,\n",
       "       13, 13,  9,  9, 13, 12,  8, 12, 12,  9, 12, 12, 12, 13,  9, 12, 12,\n",
       "       13, 12,  9,  9,  9, 12,  8, 13, 12, 12, 12, 12, 12, 12, 12, 12, 12,\n",
       "        9,  9, 13, 12,  9, 12, 12, 12,  9, 12, 13,  9, 12, 12,  9, 12,  8,\n",
       "        9, 13, 12,  9,  9,  9, 13, 12, 12,  9, 13,  4,  9, 13, 12, 12,  9,\n",
       "       13, 12,  9, 12, 13, 13,  9,  9, 12, 12, 12, 13, 12, 12,  9, 12, 12,\n",
       "        8,  9, 12, 12, 12,  9,  9, 13,  8, 12, 12, 12, 12, 12, 12, 12,  9,\n",
       "        9,  9,  9, 12, 12, 13, 12, 12, 12, 13, 13,  9, 11, 12, 12, 12, 12,\n",
       "        9, 13,  9, 12, 12, 12,  9,  9, 12, 13, 12, 12,  8,  9, 12,  9, 12,\n",
       "       12, 12,  9, 13, 12,  9, 12,  4, 13, 12, 12,  9, 12,  9, 12, 12,  8,\n",
       "       12,  9, 12, 12,  9, 12, 12, 13, 13,  9, 12,  9, 12, 12, 12, 13, 12,\n",
       "       12, 13,  9, 12, 12, 12, 13, 13, 12, 12,  9,  9, 13, 12, 12, 13, 12,\n",
       "       12, 14, 12,  8,  9, 12,  9,  7, 12, 12, 12, 12, 12, 12, 12, 13,  9,\n",
       "       12, 12, 12, 12, 12, 12, 12, 12, 12, 12,  9, 12, 12, 13, 13,  9, 12,\n",
       "       12, 12, 12,  9,  8, 12, 12, 13, 12,  9, 13, 12, 12,  8, 12, 12, 12,\n",
       "       12, 12, 12,  9, 12, 13, 12, 12,  9,  9,  9,  9, 12, 13, 12, 12, 12,\n",
       "       12, 12, 12, 13, 12, 12, 13, 12, 13, 12,  9, 12, 12, 13, 12, 12,  9,\n",
       "       12, 12, 12,  9, 12, 12, 13,  9,  9,  7,  9, 12,  9,  9,  9,  9, 12,\n",
       "       12, 12, 13, 12, 12,  8, 12, 12, 12, 12,  9, 12,  6, 12, 13, 13, 12,\n",
       "       12, 12, 12,  9, 12, 12, 13, 12, 12, 12, 13, 12,  9, 12, 12,  9, 13,\n",
       "       13, 12,  9, 13, 12, 12, 12,  9, 12, 12, 12, 12, 12, 13, 12,  9, 12,\n",
       "       12,  9, 12, 12, 16, 13, 12, 12, 12, 12, 12, 12, 12, 13,  9, 13, 12,\n",
       "        9, 12, 12,  9, 12, 13,  9, 12, 12, 12, 12, 12, 12, 12, 15,  9, 12,\n",
       "       12, 12, 12,  4, 12,  9,  9, 12, 12, 13, 12, 12, 10,  9, 12,  9, 12,\n",
       "       12,  1, 12,  9, 12,  9, 12,  9,  9, 12, 12, 13, 12, 12,  4, 12, 12,\n",
       "       12, 12, 12, 12, 12, 12, 13, 13, 12, 12, 12, 12, 12, 12,  9, 13, 12,\n",
       "        9, 12, 12, 12, 12, 12, 12, 12, 12,  9, 12,  9, 12, 12,  1, 12, 12,\n",
       "        9, 12, 12, 13, 12,  9, 12, 12, 12, 13, 12,  9,  8, 10, 12, 12, 12,\n",
       "       12, 12,  9,  9, 12, 12,  9, 12, 12, 12, 12, 12, 13,  9, 12,  9,  9,\n",
       "       12, 12, 12, 12, 12, 13, 12, 12, 12, 12, 12,  9, 12, 12,  0, 12,  9,\n",
       "       12, 12,  9,  8, 12, 12, 13,  8, 12, 12, 12,  2, 12, 12, 12, 13, 12,\n",
       "       13,  4,  9, 12, 12, 12, 12, 13, 12, 13, 12, 12,  9, 12, 13,  9, 13,\n",
       "       12, 12, 12, 12,  9,  8,  8, 12, 12, 12,  9, 12, 12, 12,  4, 13, 12,\n",
       "       13, 12, 13,  8,  8, 12, 12, 12,  9, 12, 13, 12, 12, 12,  9, 12, 12,\n",
       "        9, 12, 12,  8, 13, 12,  5, 13,  8, 12, 12,  8, 12, 13, 13,  8, 12,\n",
       "       12, 12,  9, 12, 12, 12, 12, 12, 12,  9, 12, 12, 12, 12, 12, 15, 13,\n",
       "        8, 12,  9,  9, 13, 13, 13, 12, 13, 12, 12, 12, 13,  9, 12, 13,  9,\n",
       "       12, 12,  8, 12, 13, 12, 12, 13,  9, 12, 12, 12, 13, 13, 12,  9, 12,\n",
       "       12, 13, 15,  9,  9, 12, 12])"
      ]
     },
     "execution_count": 21,
     "metadata": {},
     "output_type": "execute_result"
    }
   ],
   "source": [
    "#convert the Title into a numeric variable\n",
    "#optional : use label encoder or any other encoding technqiue apart from dummy encoding\n",
    "from sklearn import preprocessing\n",
    "le = preprocessing.LabelEncoder()\n",
    "le.fit_transform(data_titanic.Title)"
   ]
  },
  {
   "cell_type": "code",
   "execution_count": 22,
   "metadata": {},
   "outputs": [
    {
     "data": {
      "text/html": [
       "<div>\n",
       "<style scoped>\n",
       "    .dataframe tbody tr th:only-of-type {\n",
       "        vertical-align: middle;\n",
       "    }\n",
       "\n",
       "    .dataframe tbody tr th {\n",
       "        vertical-align: top;\n",
       "    }\n",
       "\n",
       "    .dataframe thead th {\n",
       "        text-align: right;\n",
       "    }\n",
       "</style>\n",
       "<table border=\"1\" class=\"dataframe\">\n",
       "  <thead>\n",
       "    <tr style=\"text-align: right;\">\n",
       "      <th></th>\n",
       "      <th>PassengerId</th>\n",
       "      <th>Survived</th>\n",
       "      <th>Pclass</th>\n",
       "      <th>Sex</th>\n",
       "      <th>Age</th>\n",
       "      <th>SibSp</th>\n",
       "      <th>Parch</th>\n",
       "      <th>Ticket</th>\n",
       "      <th>Fare</th>\n",
       "      <th>Cabin</th>\n",
       "      <th>Embarked</th>\n",
       "      <th>Title</th>\n",
       "    </tr>\n",
       "  </thead>\n",
       "  <tbody>\n",
       "    <tr>\n",
       "      <th>0</th>\n",
       "      <td>1</td>\n",
       "      <td>0</td>\n",
       "      <td>3</td>\n",
       "      <td>male</td>\n",
       "      <td>22.0</td>\n",
       "      <td>1</td>\n",
       "      <td>0</td>\n",
       "      <td>A/5 21171</td>\n",
       "      <td>7.2500</td>\n",
       "      <td>NaN</td>\n",
       "      <td>S</td>\n",
       "      <td>Mr.</td>\n",
       "    </tr>\n",
       "    <tr>\n",
       "      <th>1</th>\n",
       "      <td>2</td>\n",
       "      <td>1</td>\n",
       "      <td>1</td>\n",
       "      <td>female</td>\n",
       "      <td>38.0</td>\n",
       "      <td>1</td>\n",
       "      <td>0</td>\n",
       "      <td>PC 17599</td>\n",
       "      <td>71.2833</td>\n",
       "      <td>C85</td>\n",
       "      <td>C</td>\n",
       "      <td>Mrs.</td>\n",
       "    </tr>\n",
       "    <tr>\n",
       "      <th>2</th>\n",
       "      <td>3</td>\n",
       "      <td>1</td>\n",
       "      <td>3</td>\n",
       "      <td>female</td>\n",
       "      <td>26.0</td>\n",
       "      <td>0</td>\n",
       "      <td>0</td>\n",
       "      <td>STON/O2. 3101282</td>\n",
       "      <td>7.9250</td>\n",
       "      <td>NaN</td>\n",
       "      <td>S</td>\n",
       "      <td>Miss.</td>\n",
       "    </tr>\n",
       "    <tr>\n",
       "      <th>3</th>\n",
       "      <td>4</td>\n",
       "      <td>1</td>\n",
       "      <td>1</td>\n",
       "      <td>female</td>\n",
       "      <td>35.0</td>\n",
       "      <td>1</td>\n",
       "      <td>0</td>\n",
       "      <td>113803</td>\n",
       "      <td>53.1000</td>\n",
       "      <td>C123</td>\n",
       "      <td>S</td>\n",
       "      <td>Mrs.</td>\n",
       "    </tr>\n",
       "    <tr>\n",
       "      <th>4</th>\n",
       "      <td>5</td>\n",
       "      <td>0</td>\n",
       "      <td>3</td>\n",
       "      <td>male</td>\n",
       "      <td>35.0</td>\n",
       "      <td>0</td>\n",
       "      <td>0</td>\n",
       "      <td>373450</td>\n",
       "      <td>8.0500</td>\n",
       "      <td>NaN</td>\n",
       "      <td>S</td>\n",
       "      <td>Mr.</td>\n",
       "    </tr>\n",
       "    <tr>\n",
       "      <th>...</th>\n",
       "      <td>...</td>\n",
       "      <td>...</td>\n",
       "      <td>...</td>\n",
       "      <td>...</td>\n",
       "      <td>...</td>\n",
       "      <td>...</td>\n",
       "      <td>...</td>\n",
       "      <td>...</td>\n",
       "      <td>...</td>\n",
       "      <td>...</td>\n",
       "      <td>...</td>\n",
       "      <td>...</td>\n",
       "    </tr>\n",
       "    <tr>\n",
       "      <th>886</th>\n",
       "      <td>887</td>\n",
       "      <td>0</td>\n",
       "      <td>2</td>\n",
       "      <td>male</td>\n",
       "      <td>27.0</td>\n",
       "      <td>0</td>\n",
       "      <td>0</td>\n",
       "      <td>211536</td>\n",
       "      <td>13.0000</td>\n",
       "      <td>NaN</td>\n",
       "      <td>S</td>\n",
       "      <td>Rev.</td>\n",
       "    </tr>\n",
       "    <tr>\n",
       "      <th>887</th>\n",
       "      <td>888</td>\n",
       "      <td>1</td>\n",
       "      <td>1</td>\n",
       "      <td>female</td>\n",
       "      <td>19.0</td>\n",
       "      <td>0</td>\n",
       "      <td>0</td>\n",
       "      <td>112053</td>\n",
       "      <td>30.0000</td>\n",
       "      <td>B42</td>\n",
       "      <td>S</td>\n",
       "      <td>Miss.</td>\n",
       "    </tr>\n",
       "    <tr>\n",
       "      <th>888</th>\n",
       "      <td>889</td>\n",
       "      <td>0</td>\n",
       "      <td>3</td>\n",
       "      <td>female</td>\n",
       "      <td>NaN</td>\n",
       "      <td>1</td>\n",
       "      <td>2</td>\n",
       "      <td>W./C. 6607</td>\n",
       "      <td>23.4500</td>\n",
       "      <td>NaN</td>\n",
       "      <td>S</td>\n",
       "      <td>Miss.</td>\n",
       "    </tr>\n",
       "    <tr>\n",
       "      <th>889</th>\n",
       "      <td>890</td>\n",
       "      <td>1</td>\n",
       "      <td>1</td>\n",
       "      <td>male</td>\n",
       "      <td>26.0</td>\n",
       "      <td>0</td>\n",
       "      <td>0</td>\n",
       "      <td>111369</td>\n",
       "      <td>30.0000</td>\n",
       "      <td>C148</td>\n",
       "      <td>C</td>\n",
       "      <td>Mr.</td>\n",
       "    </tr>\n",
       "    <tr>\n",
       "      <th>890</th>\n",
       "      <td>891</td>\n",
       "      <td>0</td>\n",
       "      <td>3</td>\n",
       "      <td>male</td>\n",
       "      <td>32.0</td>\n",
       "      <td>0</td>\n",
       "      <td>0</td>\n",
       "      <td>370376</td>\n",
       "      <td>7.7500</td>\n",
       "      <td>NaN</td>\n",
       "      <td>Q</td>\n",
       "      <td>Mr.</td>\n",
       "    </tr>\n",
       "  </tbody>\n",
       "</table>\n",
       "<p>891 rows × 12 columns</p>\n",
       "</div>"
      ],
      "text/plain": [
       "     PassengerId  Survived  Pclass     Sex   Age  SibSp  Parch  \\\n",
       "0              1         0       3    male  22.0      1      0   \n",
       "1              2         1       1  female  38.0      1      0   \n",
       "2              3         1       3  female  26.0      0      0   \n",
       "3              4         1       1  female  35.0      1      0   \n",
       "4              5         0       3    male  35.0      0      0   \n",
       "..           ...       ...     ...     ...   ...    ...    ...   \n",
       "886          887         0       2    male  27.0      0      0   \n",
       "887          888         1       1  female  19.0      0      0   \n",
       "888          889         0       3  female   NaN      1      2   \n",
       "889          890         1       1    male  26.0      0      0   \n",
       "890          891         0       3    male  32.0      0      0   \n",
       "\n",
       "               Ticket     Fare Cabin Embarked  Title  \n",
       "0           A/5 21171   7.2500   NaN        S    Mr.  \n",
       "1            PC 17599  71.2833   C85        C   Mrs.  \n",
       "2    STON/O2. 3101282   7.9250   NaN        S  Miss.  \n",
       "3              113803  53.1000  C123        S   Mrs.  \n",
       "4              373450   8.0500   NaN        S    Mr.  \n",
       "..                ...      ...   ...      ...    ...  \n",
       "886            211536  13.0000   NaN        S   Rev.  \n",
       "887            112053  30.0000   B42        S  Miss.  \n",
       "888        W./C. 6607  23.4500   NaN        S  Miss.  \n",
       "889            111369  30.0000  C148        C    Mr.  \n",
       "890            370376   7.7500   NaN        Q    Mr.  \n",
       "\n",
       "[891 rows x 12 columns]"
      ]
     },
     "execution_count": 22,
     "metadata": {},
     "output_type": "execute_result"
    }
   ],
   "source": [
    "#drop the name feature as the same is not required\n",
    "data_titanic.drop(columns='Name',inplace=True)\n",
    "data_titanic"
   ]
  },
  {
   "cell_type": "code",
   "execution_count": 23,
   "metadata": {},
   "outputs": [
    {
     "data": {
      "text/html": [
       "<div>\n",
       "<style scoped>\n",
       "    .dataframe tbody tr th:only-of-type {\n",
       "        vertical-align: middle;\n",
       "    }\n",
       "\n",
       "    .dataframe tbody tr th {\n",
       "        vertical-align: top;\n",
       "    }\n",
       "\n",
       "    .dataframe thead th {\n",
       "        text-align: right;\n",
       "    }\n",
       "</style>\n",
       "<table border=\"1\" class=\"dataframe\">\n",
       "  <thead>\n",
       "    <tr style=\"text-align: right;\">\n",
       "      <th></th>\n",
       "      <th>female</th>\n",
       "      <th>male</th>\n",
       "    </tr>\n",
       "  </thead>\n",
       "  <tbody>\n",
       "    <tr>\n",
       "      <th>0</th>\n",
       "      <td>0</td>\n",
       "      <td>1</td>\n",
       "    </tr>\n",
       "    <tr>\n",
       "      <th>1</th>\n",
       "      <td>1</td>\n",
       "      <td>0</td>\n",
       "    </tr>\n",
       "    <tr>\n",
       "      <th>2</th>\n",
       "      <td>1</td>\n",
       "      <td>0</td>\n",
       "    </tr>\n",
       "    <tr>\n",
       "      <th>3</th>\n",
       "      <td>1</td>\n",
       "      <td>0</td>\n",
       "    </tr>\n",
       "    <tr>\n",
       "      <th>4</th>\n",
       "      <td>0</td>\n",
       "      <td>1</td>\n",
       "    </tr>\n",
       "    <tr>\n",
       "      <th>...</th>\n",
       "      <td>...</td>\n",
       "      <td>...</td>\n",
       "    </tr>\n",
       "    <tr>\n",
       "      <th>886</th>\n",
       "      <td>0</td>\n",
       "      <td>1</td>\n",
       "    </tr>\n",
       "    <tr>\n",
       "      <th>887</th>\n",
       "      <td>1</td>\n",
       "      <td>0</td>\n",
       "    </tr>\n",
       "    <tr>\n",
       "      <th>888</th>\n",
       "      <td>1</td>\n",
       "      <td>0</td>\n",
       "    </tr>\n",
       "    <tr>\n",
       "      <th>889</th>\n",
       "      <td>0</td>\n",
       "      <td>1</td>\n",
       "    </tr>\n",
       "    <tr>\n",
       "      <th>890</th>\n",
       "      <td>0</td>\n",
       "      <td>1</td>\n",
       "    </tr>\n",
       "  </tbody>\n",
       "</table>\n",
       "<p>891 rows × 2 columns</p>\n",
       "</div>"
      ],
      "text/plain": [
       "     female  male\n",
       "0         0     1\n",
       "1         1     0\n",
       "2         1     0\n",
       "3         1     0\n",
       "4         0     1\n",
       "..      ...   ...\n",
       "886       0     1\n",
       "887       1     0\n",
       "888       1     0\n",
       "889       0     1\n",
       "890       0     1\n",
       "\n",
       "[891 rows x 2 columns]"
      ]
     },
     "execution_count": 23,
     "metadata": {},
     "output_type": "execute_result"
    }
   ],
   "source": [
    "#encode sex using dummy encoding\n",
    "dum_sex=pd.get_dummies(data_titanic.Sex)\n",
    "dum_sex"
   ]
  },
  {
   "cell_type": "code",
   "execution_count": 24,
   "metadata": {},
   "outputs": [
    {
     "data": {
      "text/plain": [
       "80.0"
      ]
     },
     "execution_count": 24,
     "metadata": {},
     "output_type": "execute_result"
    }
   ],
   "source": [
    "#impute missing values for Age using your best judgement\n",
    "data_titanic['Age'].replace(np.nan , data_titanic.Age.mean() , inplace = True)\n",
    "data_titanic.Age.isna().sum()\n",
    "data_titanic.Age.unique()\n",
    "max(data_titanic.Age)"
   ]
  },
  {
   "cell_type": "markdown",
   "metadata": {},
   "source": [
    "## Binning"
   ]
  },
  {
   "cell_type": "code",
   "execution_count": 25,
   "metadata": {},
   "outputs": [],
   "source": [
    "#bin the age data using following bin distributions\n",
    "#Age <= 16 bin as 0,\n",
    "#Age > 16 & Age <= 26 bin as  1,\n",
    "#Age > 26 & Age <= 36 bin as  2,\n",
    "#Age > 36 & Age <= 62 bin as  3,\n",
    "#Age > 62 bin as 4\n",
    "data_titanic['Age_bin']=pd.cut(data_titanic['Age'], bins=[0,16,26,36,62,80],labels=[0,1,2,3,4])"
   ]
  },
  {
   "cell_type": "code",
   "execution_count": 26,
   "metadata": {},
   "outputs": [
    {
     "data": {
      "text/plain": [
       "2    377\n",
       "1    219\n",
       "3    180\n",
       "0    100\n",
       "4     15\n",
       "Name: Age_bin, dtype: int64"
      ]
     },
     "execution_count": 26,
     "metadata": {},
     "output_type": "execute_result"
    }
   ],
   "source": [
    "#print the bin distribution\n",
    "data_titanic['Age_bin'].value_counts()"
   ]
  },
  {
   "cell_type": "code",
   "execution_count": 27,
   "metadata": {},
   "outputs": [
    {
     "data": {
      "text/plain": [
       "[Text(0, 0, 'Dead'), Text(1, 0, 'Alive')]"
      ]
     },
     "execution_count": 27,
     "metadata": {},
     "output_type": "execute_result"
    },
    {
     "data": {
      "image/png": "[encoded data removed]",
      "text/plain": [
       "<Figure size 720x432 with 1 Axes>"
      ]
     },
     "metadata": {},
     "output_type": "display_data"
    }
   ],
   "source": [
    "#use the bar_chart function to vizualized the new bins for age, sample output given below\n",
    "plt.figure(figsize=(10,6))\n",
    "g=sns.countplot(x='Survived', hue='Age_bin', data=data_titanic)\n",
    "sns.set_theme(style='darkgrid')\n",
    "g.set_xticklabels([\"Dead\",\"Alive\"])"
   ]
  },
  {
   "cell_type": "code",
   "execution_count": 28,
   "metadata": {},
   "outputs": [
    {
     "data": {
      "text/plain": [
       "S    644\n",
       "C    168\n",
       "Q     77\n",
       "Name: Embarked, dtype: int64"
      ]
     },
     "execution_count": 28,
     "metadata": {},
     "output_type": "execute_result"
    }
   ],
   "source": [
    "#replace missing values in Embarked with most frequent value in the dataset\n",
    "data_titanic.Embarked.value_counts()"
   ]
  },
  {
   "cell_type": "code",
   "execution_count": 29,
   "metadata": {},
   "outputs": [
    {
     "data": {
      "text/plain": [
       "array(['S', 'C', 'Q'], dtype=object)"
      ]
     },
     "execution_count": 29,
     "metadata": {},
     "output_type": "execute_result"
    }
   ],
   "source": [
    "data_titanic.Embarked.replace(np.nan,'S',inplace=True)\n",
    "data_titanic.Embarked.unique()"
   ]
  },
  {
   "cell_type": "code",
   "execution_count": 30,
   "metadata": {},
   "outputs": [
    {
     "data": {
      "text/html": [
       "<div>\n",
       "<style scoped>\n",
       "    .dataframe tbody tr th:only-of-type {\n",
       "        vertical-align: middle;\n",
       "    }\n",
       "\n",
       "    .dataframe tbody tr th {\n",
       "        vertical-align: top;\n",
       "    }\n",
       "\n",
       "    .dataframe thead th {\n",
       "        text-align: right;\n",
       "    }\n",
       "</style>\n",
       "<table border=\"1\" class=\"dataframe\">\n",
       "  <thead>\n",
       "    <tr style=\"text-align: right;\">\n",
       "      <th></th>\n",
       "      <th>C</th>\n",
       "      <th>Q</th>\n",
       "      <th>S</th>\n",
       "    </tr>\n",
       "  </thead>\n",
       "  <tbody>\n",
       "    <tr>\n",
       "      <th>0</th>\n",
       "      <td>0</td>\n",
       "      <td>0</td>\n",
       "      <td>1</td>\n",
       "    </tr>\n",
       "    <tr>\n",
       "      <th>1</th>\n",
       "      <td>1</td>\n",
       "      <td>0</td>\n",
       "      <td>0</td>\n",
       "    </tr>\n",
       "    <tr>\n",
       "      <th>2</th>\n",
       "      <td>0</td>\n",
       "      <td>0</td>\n",
       "      <td>1</td>\n",
       "    </tr>\n",
       "    <tr>\n",
       "      <th>3</th>\n",
       "      <td>0</td>\n",
       "      <td>0</td>\n",
       "      <td>1</td>\n",
       "    </tr>\n",
       "    <tr>\n",
       "      <th>4</th>\n",
       "      <td>0</td>\n",
       "      <td>0</td>\n",
       "      <td>1</td>\n",
       "    </tr>\n",
       "    <tr>\n",
       "      <th>...</th>\n",
       "      <td>...</td>\n",
       "      <td>...</td>\n",
       "      <td>...</td>\n",
       "    </tr>\n",
       "    <tr>\n",
       "      <th>886</th>\n",
       "      <td>0</td>\n",
       "      <td>0</td>\n",
       "      <td>1</td>\n",
       "    </tr>\n",
       "    <tr>\n",
       "      <th>887</th>\n",
       "      <td>0</td>\n",
       "      <td>0</td>\n",
       "      <td>1</td>\n",
       "    </tr>\n",
       "    <tr>\n",
       "      <th>888</th>\n",
       "      <td>0</td>\n",
       "      <td>0</td>\n",
       "      <td>1</td>\n",
       "    </tr>\n",
       "    <tr>\n",
       "      <th>889</th>\n",
       "      <td>1</td>\n",
       "      <td>0</td>\n",
       "      <td>0</td>\n",
       "    </tr>\n",
       "    <tr>\n",
       "      <th>890</th>\n",
       "      <td>0</td>\n",
       "      <td>1</td>\n",
       "      <td>0</td>\n",
       "    </tr>\n",
       "  </tbody>\n",
       "</table>\n",
       "<p>891 rows × 3 columns</p>\n",
       "</div>"
      ],
      "text/plain": [
       "     C  Q  S\n",
       "0    0  0  1\n",
       "1    1  0  0\n",
       "2    0  0  1\n",
       "3    0  0  1\n",
       "4    0  0  1\n",
       "..  .. .. ..\n",
       "886  0  0  1\n",
       "887  0  0  1\n",
       "888  0  0  1\n",
       "889  1  0  0\n",
       "890  0  1  0\n",
       "\n",
       "[891 rows x 3 columns]"
      ]
     },
     "execution_count": 30,
     "metadata": {},
     "output_type": "execute_result"
    }
   ],
   "source": [
    "#dummify emabarked\n",
    "dum_embarked=pd.get_dummies(data_titanic.Embarked)\n",
    "dum_embarked"
   ]
  },
  {
   "cell_type": "code",
   "execution_count": 31,
   "metadata": {},
   "outputs": [],
   "source": [
    "#imput missing values in Fare using your best judgment\n",
    "data_titanic.Fare.replace('0',data_titanic.Fare.mean(), inplace=True)"
   ]
  },
  {
   "cell_type": "code",
   "execution_count": 32,
   "metadata": {},
   "outputs": [
    {
     "data": {
      "text/plain": [
       "C    59\n",
       "B    47\n",
       "D    33\n",
       "E    32\n",
       "A    15\n",
       "F    13\n",
       "G     4\n",
       "T     1\n",
       "Name: new_cabin, dtype: int64"
      ]
     },
     "execution_count": 32,
     "metadata": {},
     "output_type": "execute_result"
    }
   ],
   "source": [
    "#trick question\n",
    "#extract the alphabetical value from cabin variable which is an alphanumeric variable using str\n",
    "#replace the missing values in new cabin variable which is alphabetical in nature using most frequent value\n",
    "data_titanic['new_cabin']=data_titanic['Cabin'].str.extract('([A-Z])')\n",
    "data_titanic.new_cabin.value_counts()"
   ]
  },
  {
   "cell_type": "code",
   "execution_count": 33,
   "metadata": {},
   "outputs": [
    {
     "data": {
      "text/plain": [
       "C    746\n",
       "B     47\n",
       "D     33\n",
       "E     32\n",
       "A     15\n",
       "F     13\n",
       "G      4\n",
       "T      1\n",
       "Name: new_cabin, dtype: int64"
      ]
     },
     "execution_count": 33,
     "metadata": {},
     "output_type": "execute_result"
    }
   ],
   "source": [
    "data_titanic.new_cabin.replace(np.nan,'C',inplace=True)\n",
    "data_titanic.new_cabin.value_counts()"
   ]
  },
  {
   "cell_type": "code",
   "execution_count": 34,
   "metadata": {},
   "outputs": [
    {
     "data": {
      "text/html": [
       "<div>\n",
       "<style scoped>\n",
       "    .dataframe tbody tr th:only-of-type {\n",
       "        vertical-align: middle;\n",
       "    }\n",
       "\n",
       "    .dataframe tbody tr th {\n",
       "        vertical-align: top;\n",
       "    }\n",
       "\n",
       "    .dataframe thead th {\n",
       "        text-align: right;\n",
       "    }\n",
       "</style>\n",
       "<table border=\"1\" class=\"dataframe\">\n",
       "  <thead>\n",
       "    <tr style=\"text-align: right;\">\n",
       "      <th></th>\n",
       "      <th>A</th>\n",
       "      <th>B</th>\n",
       "      <th>C</th>\n",
       "      <th>D</th>\n",
       "      <th>E</th>\n",
       "      <th>F</th>\n",
       "      <th>G</th>\n",
       "      <th>T</th>\n",
       "    </tr>\n",
       "  </thead>\n",
       "  <tbody>\n",
       "    <tr>\n",
       "      <th>0</th>\n",
       "      <td>0</td>\n",
       "      <td>0</td>\n",
       "      <td>1</td>\n",
       "      <td>0</td>\n",
       "      <td>0</td>\n",
       "      <td>0</td>\n",
       "      <td>0</td>\n",
       "      <td>0</td>\n",
       "    </tr>\n",
       "    <tr>\n",
       "      <th>1</th>\n",
       "      <td>0</td>\n",
       "      <td>0</td>\n",
       "      <td>1</td>\n",
       "      <td>0</td>\n",
       "      <td>0</td>\n",
       "      <td>0</td>\n",
       "      <td>0</td>\n",
       "      <td>0</td>\n",
       "    </tr>\n",
       "    <tr>\n",
       "      <th>2</th>\n",
       "      <td>0</td>\n",
       "      <td>0</td>\n",
       "      <td>1</td>\n",
       "      <td>0</td>\n",
       "      <td>0</td>\n",
       "      <td>0</td>\n",
       "      <td>0</td>\n",
       "      <td>0</td>\n",
       "    </tr>\n",
       "    <tr>\n",
       "      <th>3</th>\n",
       "      <td>0</td>\n",
       "      <td>0</td>\n",
       "      <td>1</td>\n",
       "      <td>0</td>\n",
       "      <td>0</td>\n",
       "      <td>0</td>\n",
       "      <td>0</td>\n",
       "      <td>0</td>\n",
       "    </tr>\n",
       "    <tr>\n",
       "      <th>4</th>\n",
       "      <td>0</td>\n",
       "      <td>0</td>\n",
       "      <td>1</td>\n",
       "      <td>0</td>\n",
       "      <td>0</td>\n",
       "      <td>0</td>\n",
       "      <td>0</td>\n",
       "      <td>0</td>\n",
       "    </tr>\n",
       "    <tr>\n",
       "      <th>...</th>\n",
       "      <td>...</td>\n",
       "      <td>...</td>\n",
       "      <td>...</td>\n",
       "      <td>...</td>\n",
       "      <td>...</td>\n",
       "      <td>...</td>\n",
       "      <td>...</td>\n",
       "      <td>...</td>\n",
       "    </tr>\n",
       "    <tr>\n",
       "      <th>886</th>\n",
       "      <td>0</td>\n",
       "      <td>0</td>\n",
       "      <td>1</td>\n",
       "      <td>0</td>\n",
       "      <td>0</td>\n",
       "      <td>0</td>\n",
       "      <td>0</td>\n",
       "      <td>0</td>\n",
       "    </tr>\n",
       "    <tr>\n",
       "      <th>887</th>\n",
       "      <td>0</td>\n",
       "      <td>1</td>\n",
       "      <td>0</td>\n",
       "      <td>0</td>\n",
       "      <td>0</td>\n",
       "      <td>0</td>\n",
       "      <td>0</td>\n",
       "      <td>0</td>\n",
       "    </tr>\n",
       "    <tr>\n",
       "      <th>888</th>\n",
       "      <td>0</td>\n",
       "      <td>0</td>\n",
       "      <td>1</td>\n",
       "      <td>0</td>\n",
       "      <td>0</td>\n",
       "      <td>0</td>\n",
       "      <td>0</td>\n",
       "      <td>0</td>\n",
       "    </tr>\n",
       "    <tr>\n",
       "      <th>889</th>\n",
       "      <td>0</td>\n",
       "      <td>0</td>\n",
       "      <td>1</td>\n",
       "      <td>0</td>\n",
       "      <td>0</td>\n",
       "      <td>0</td>\n",
       "      <td>0</td>\n",
       "      <td>0</td>\n",
       "    </tr>\n",
       "    <tr>\n",
       "      <th>890</th>\n",
       "      <td>0</td>\n",
       "      <td>0</td>\n",
       "      <td>1</td>\n",
       "      <td>0</td>\n",
       "      <td>0</td>\n",
       "      <td>0</td>\n",
       "      <td>0</td>\n",
       "      <td>0</td>\n",
       "    </tr>\n",
       "  </tbody>\n",
       "</table>\n",
       "<p>891 rows × 8 columns</p>\n",
       "</div>"
      ],
      "text/plain": [
       "     A  B  C  D  E  F  G  T\n",
       "0    0  0  1  0  0  0  0  0\n",
       "1    0  0  1  0  0  0  0  0\n",
       "2    0  0  1  0  0  0  0  0\n",
       "3    0  0  1  0  0  0  0  0\n",
       "4    0  0  1  0  0  0  0  0\n",
       "..  .. .. .. .. .. .. .. ..\n",
       "886  0  0  1  0  0  0  0  0\n",
       "887  0  1  0  0  0  0  0  0\n",
       "888  0  0  1  0  0  0  0  0\n",
       "889  0  0  1  0  0  0  0  0\n",
       "890  0  0  1  0  0  0  0  0\n",
       "\n",
       "[891 rows x 8 columns]"
      ]
     },
     "execution_count": 34,
     "metadata": {},
     "output_type": "execute_result"
    }
   ],
   "source": [
    "#dummify the cabin variable\n",
    "dum_cabin=pd.get_dummies(data_titanic.new_cabin)\n",
    "dum_cabin"
   ]
  },
  {
   "cell_type": "code",
   "execution_count": 35,
   "metadata": {},
   "outputs": [
    {
     "data": {
      "text/html": [
       "<div>\n",
       "<style scoped>\n",
       "    .dataframe tbody tr th:only-of-type {\n",
       "        vertical-align: middle;\n",
       "    }\n",
       "\n",
       "    .dataframe tbody tr th {\n",
       "        vertical-align: top;\n",
       "    }\n",
       "\n",
       "    .dataframe thead th {\n",
       "        text-align: right;\n",
       "    }\n",
       "</style>\n",
       "<table border=\"1\" class=\"dataframe\">\n",
       "  <thead>\n",
       "    <tr style=\"text-align: right;\">\n",
       "      <th></th>\n",
       "      <th>PassengerId</th>\n",
       "      <th>Survived</th>\n",
       "      <th>Pclass</th>\n",
       "      <th>Sex</th>\n",
       "      <th>Age</th>\n",
       "      <th>Fare</th>\n",
       "      <th>Cabin</th>\n",
       "      <th>Embarked</th>\n",
       "      <th>Title</th>\n",
       "      <th>Age_bin</th>\n",
       "      <th>new_cabin</th>\n",
       "    </tr>\n",
       "  </thead>\n",
       "  <tbody>\n",
       "    <tr>\n",
       "      <th>0</th>\n",
       "      <td>1</td>\n",
       "      <td>0</td>\n",
       "      <td>3</td>\n",
       "      <td>male</td>\n",
       "      <td>22.000000</td>\n",
       "      <td>7.2500</td>\n",
       "      <td>NaN</td>\n",
       "      <td>S</td>\n",
       "      <td>Mr.</td>\n",
       "      <td>1</td>\n",
       "      <td>C</td>\n",
       "    </tr>\n",
       "    <tr>\n",
       "      <th>1</th>\n",
       "      <td>2</td>\n",
       "      <td>1</td>\n",
       "      <td>1</td>\n",
       "      <td>female</td>\n",
       "      <td>38.000000</td>\n",
       "      <td>71.2833</td>\n",
       "      <td>C85</td>\n",
       "      <td>C</td>\n",
       "      <td>Mrs.</td>\n",
       "      <td>3</td>\n",
       "      <td>C</td>\n",
       "    </tr>\n",
       "    <tr>\n",
       "      <th>2</th>\n",
       "      <td>3</td>\n",
       "      <td>1</td>\n",
       "      <td>3</td>\n",
       "      <td>female</td>\n",
       "      <td>26.000000</td>\n",
       "      <td>7.9250</td>\n",
       "      <td>NaN</td>\n",
       "      <td>S</td>\n",
       "      <td>Miss.</td>\n",
       "      <td>1</td>\n",
       "      <td>C</td>\n",
       "    </tr>\n",
       "    <tr>\n",
       "      <th>3</th>\n",
       "      <td>4</td>\n",
       "      <td>1</td>\n",
       "      <td>1</td>\n",
       "      <td>female</td>\n",
       "      <td>35.000000</td>\n",
       "      <td>53.1000</td>\n",
       "      <td>C123</td>\n",
       "      <td>S</td>\n",
       "      <td>Mrs.</td>\n",
       "      <td>2</td>\n",
       "      <td>C</td>\n",
       "    </tr>\n",
       "    <tr>\n",
       "      <th>4</th>\n",
       "      <td>5</td>\n",
       "      <td>0</td>\n",
       "      <td>3</td>\n",
       "      <td>male</td>\n",
       "      <td>35.000000</td>\n",
       "      <td>8.0500</td>\n",
       "      <td>NaN</td>\n",
       "      <td>S</td>\n",
       "      <td>Mr.</td>\n",
       "      <td>2</td>\n",
       "      <td>C</td>\n",
       "    </tr>\n",
       "    <tr>\n",
       "      <th>...</th>\n",
       "      <td>...</td>\n",
       "      <td>...</td>\n",
       "      <td>...</td>\n",
       "      <td>...</td>\n",
       "      <td>...</td>\n",
       "      <td>...</td>\n",
       "      <td>...</td>\n",
       "      <td>...</td>\n",
       "      <td>...</td>\n",
       "      <td>...</td>\n",
       "      <td>...</td>\n",
       "    </tr>\n",
       "    <tr>\n",
       "      <th>886</th>\n",
       "      <td>887</td>\n",
       "      <td>0</td>\n",
       "      <td>2</td>\n",
       "      <td>male</td>\n",
       "      <td>27.000000</td>\n",
       "      <td>13.0000</td>\n",
       "      <td>NaN</td>\n",
       "      <td>S</td>\n",
       "      <td>Rev.</td>\n",
       "      <td>2</td>\n",
       "      <td>C</td>\n",
       "    </tr>\n",
       "    <tr>\n",
       "      <th>887</th>\n",
       "      <td>888</td>\n",
       "      <td>1</td>\n",
       "      <td>1</td>\n",
       "      <td>female</td>\n",
       "      <td>19.000000</td>\n",
       "      <td>30.0000</td>\n",
       "      <td>B42</td>\n",
       "      <td>S</td>\n",
       "      <td>Miss.</td>\n",
       "      <td>1</td>\n",
       "      <td>B</td>\n",
       "    </tr>\n",
       "    <tr>\n",
       "      <th>888</th>\n",
       "      <td>889</td>\n",
       "      <td>0</td>\n",
       "      <td>3</td>\n",
       "      <td>female</td>\n",
       "      <td>29.699118</td>\n",
       "      <td>23.4500</td>\n",
       "      <td>NaN</td>\n",
       "      <td>S</td>\n",
       "      <td>Miss.</td>\n",
       "      <td>2</td>\n",
       "      <td>C</td>\n",
       "    </tr>\n",
       "    <tr>\n",
       "      <th>889</th>\n",
       "      <td>890</td>\n",
       "      <td>1</td>\n",
       "      <td>1</td>\n",
       "      <td>male</td>\n",
       "      <td>26.000000</td>\n",
       "      <td>30.0000</td>\n",
       "      <td>C148</td>\n",
       "      <td>C</td>\n",
       "      <td>Mr.</td>\n",
       "      <td>1</td>\n",
       "      <td>C</td>\n",
       "    </tr>\n",
       "    <tr>\n",
       "      <th>890</th>\n",
       "      <td>891</td>\n",
       "      <td>0</td>\n",
       "      <td>3</td>\n",
       "      <td>male</td>\n",
       "      <td>32.000000</td>\n",
       "      <td>7.7500</td>\n",
       "      <td>NaN</td>\n",
       "      <td>Q</td>\n",
       "      <td>Mr.</td>\n",
       "      <td>2</td>\n",
       "      <td>C</td>\n",
       "    </tr>\n",
       "  </tbody>\n",
       "</table>\n",
       "<p>891 rows × 11 columns</p>\n",
       "</div>"
      ],
      "text/plain": [
       "     PassengerId  Survived  Pclass     Sex        Age     Fare Cabin Embarked  \\\n",
       "0              1         0       3    male  22.000000   7.2500   NaN        S   \n",
       "1              2         1       1  female  38.000000  71.2833   C85        C   \n",
       "2              3         1       3  female  26.000000   7.9250   NaN        S   \n",
       "3              4         1       1  female  35.000000  53.1000  C123        S   \n",
       "4              5         0       3    male  35.000000   8.0500   NaN        S   \n",
       "..           ...       ...     ...     ...        ...      ...   ...      ...   \n",
       "886          887         0       2    male  27.000000  13.0000   NaN        S   \n",
       "887          888         1       1  female  19.000000  30.0000   B42        S   \n",
       "888          889         0       3  female  29.699118  23.4500   NaN        S   \n",
       "889          890         1       1    male  26.000000  30.0000  C148        C   \n",
       "890          891         0       3    male  32.000000   7.7500   NaN        Q   \n",
       "\n",
       "     Title Age_bin new_cabin  \n",
       "0      Mr.       1         C  \n",
       "1     Mrs.       3         C  \n",
       "2    Miss.       1         C  \n",
       "3     Mrs.       2         C  \n",
       "4      Mr.       2         C  \n",
       "..     ...     ...       ...  \n",
       "886   Rev.       2         C  \n",
       "887  Miss.       1         B  \n",
       "888  Miss.       2         C  \n",
       "889    Mr.       1         C  \n",
       "890    Mr.       2         C  \n",
       "\n",
       "[891 rows x 11 columns]"
      ]
     },
     "execution_count": 35,
     "metadata": {},
     "output_type": "execute_result"
    }
   ],
   "source": [
    "#drop features Ticket, SibSp and Parch\n",
    "data_titanic.drop(['Ticket','SibSp','Parch'], axis=1, inplace=True)\n",
    "data_titanic"
   ]
  },
  {
   "cell_type": "markdown",
   "metadata": {},
   "source": [
    "## Modelling"
   ]
  },
  {
   "cell_type": "code",
   "execution_count": 36,
   "metadata": {},
   "outputs": [],
   "source": [
    "#Build a logistic regression model on the training data using OLS and report findings\n",
    "data_titanic1=data_titanic[['Age', 'Fare']]\n",
    "y=data_titanic.Survived\n"
   ]
  },
  {
   "cell_type": "code",
   "execution_count": 37,
   "metadata": {},
   "outputs": [],
   "source": [
    "X=pd.concat([data_titanic1,dum_class,dum_sex,dum_embarked],axis=1)"
   ]
  },
  {
   "cell_type": "code",
   "execution_count": 38,
   "metadata": {},
   "outputs": [
    {
     "data": {
      "text/html": [
       "<table class=\"simpletable\">\n",
       "<caption>OLS Regression Results</caption>\n",
       "<tr>\n",
       "  <th>Dep. Variable:</th>        <td>Survived</td>     <th>  R-squared:         </th> <td>   0.389</td>\n",
       "</tr>\n",
       "<tr>\n",
       "  <th>Model:</th>                   <td>OLS</td>       <th>  Adj. R-squared:    </th> <td>   0.384</td>\n",
       "</tr>\n",
       "<tr>\n",
       "  <th>Method:</th>             <td>Least Squares</td>  <th>  F-statistic:       </th> <td>   80.22</td>\n",
       "</tr>\n",
       "<tr>\n",
       "  <th>Date:</th>             <td>Mon, 15 Feb 2021</td> <th>  Prob (F-statistic):</th> <td>4.95e-90</td>\n",
       "</tr>\n",
       "<tr>\n",
       "  <th>Time:</th>                 <td>20:35:50</td>     <th>  Log-Likelihood:    </th> <td> -402.68</td>\n",
       "</tr>\n",
       "<tr>\n",
       "  <th>No. Observations:</th>      <td>   891</td>      <th>  AIC:               </th> <td>   821.4</td>\n",
       "</tr>\n",
       "<tr>\n",
       "  <th>Df Residuals:</th>          <td>   883</td>      <th>  BIC:               </th> <td>   859.7</td>\n",
       "</tr>\n",
       "<tr>\n",
       "  <th>Df Model:</th>              <td>     7</td>      <th>                     </th>     <td> </td>   \n",
       "</tr>\n",
       "<tr>\n",
       "  <th>Covariance Type:</th>      <td>nonrobust</td>    <th>                     </th>     <td> </td>   \n",
       "</tr>\n",
       "</table>\n",
       "<table class=\"simpletable\">\n",
       "<tr>\n",
       "     <td></td>       <th>coef</th>     <th>std err</th>      <th>t</th>      <th>P>|t|</th>  <th>[0.025</th>    <th>0.975]</th>  \n",
       "</tr>\n",
       "<tr>\n",
       "  <th>const</th>  <td>    0.3203</td> <td>    0.020</td> <td>   16.340</td> <td> 0.000</td> <td>    0.282</td> <td>    0.359</td>\n",
       "</tr>\n",
       "<tr>\n",
       "  <th>Age</th>    <td>   -0.0050</td> <td>    0.001</td> <td>   -4.683</td> <td> 0.000</td> <td>   -0.007</td> <td>   -0.003</td>\n",
       "</tr>\n",
       "<tr>\n",
       "  <th>Fare</th>   <td> 2.177e-05</td> <td>    0.000</td> <td>    0.066</td> <td> 0.947</td> <td>   -0.001</td> <td>    0.001</td>\n",
       "</tr>\n",
       "<tr>\n",
       "  <th>1</th>      <td>    0.2786</td> <td>    0.030</td> <td>    9.182</td> <td> 0.000</td> <td>    0.219</td> <td>    0.338</td>\n",
       "</tr>\n",
       "<tr>\n",
       "  <th>2</th>      <td>    0.1224</td> <td>    0.024</td> <td>    5.197</td> <td> 0.000</td> <td>    0.076</td> <td>    0.169</td>\n",
       "</tr>\n",
       "<tr>\n",
       "  <th>3</th>      <td>   -0.0806</td> <td>    0.018</td> <td>   -4.475</td> <td> 0.000</td> <td>   -0.116</td> <td>   -0.045</td>\n",
       "</tr>\n",
       "<tr>\n",
       "  <th>female</th> <td>    0.4049</td> <td>    0.017</td> <td>   24.073</td> <td> 0.000</td> <td>    0.372</td> <td>    0.438</td>\n",
       "</tr>\n",
       "<tr>\n",
       "  <th>male</th>   <td>   -0.0845</td> <td>    0.017</td> <td>   -4.919</td> <td> 0.000</td> <td>   -0.118</td> <td>   -0.051</td>\n",
       "</tr>\n",
       "<tr>\n",
       "  <th>C</th>      <td>    0.1347</td> <td>    0.027</td> <td>    5.036</td> <td> 0.000</td> <td>    0.082</td> <td>    0.187</td>\n",
       "</tr>\n",
       "<tr>\n",
       "  <th>Q</th>      <td>    0.1334</td> <td>    0.035</td> <td>    3.810</td> <td> 0.000</td> <td>    0.065</td> <td>    0.202</td>\n",
       "</tr>\n",
       "<tr>\n",
       "  <th>S</th>      <td>    0.0522</td> <td>    0.019</td> <td>    2.682</td> <td> 0.007</td> <td>    0.014</td> <td>    0.090</td>\n",
       "</tr>\n",
       "</table>\n",
       "<table class=\"simpletable\">\n",
       "<tr>\n",
       "  <th>Omnibus:</th>       <td>37.641</td> <th>  Durbin-Watson:     </th> <td>   1.925</td>\n",
       "</tr>\n",
       "<tr>\n",
       "  <th>Prob(Omnibus):</th> <td> 0.000</td> <th>  Jarque-Bera (JB):  </th> <td>  41.454</td>\n",
       "</tr>\n",
       "<tr>\n",
       "  <th>Skew:</th>          <td> 0.525</td> <th>  Prob(JB):          </th> <td>9.97e-10</td>\n",
       "</tr>\n",
       "<tr>\n",
       "  <th>Kurtosis:</th>      <td> 3.122</td> <th>  Cond. No.          </th> <td>7.61e+17</td>\n",
       "</tr>\n",
       "</table><br/><br/>Notes:<br/>[1] Standard Errors assume that the covariance matrix of the errors is correctly specified.<br/>[2] The smallest eigenvalue is 5.95e-30. This might indicate that there are<br/>strong multicollinearity problems or that the design matrix is singular."
      ],
      "text/plain": [
       "<class 'statsmodels.iolib.summary.Summary'>\n",
       "\"\"\"\n",
       "                            OLS Regression Results                            \n",
       "==============================================================================\n",
       "Dep. Variable:               Survived   R-squared:                       0.389\n",
       "Model:                            OLS   Adj. R-squared:                  0.384\n",
       "Method:                 Least Squares   F-statistic:                     80.22\n",
       "Date:                Mon, 15 Feb 2021   Prob (F-statistic):           4.95e-90\n",
       "Time:                        20:35:50   Log-Likelihood:                -402.68\n",
       "No. Observations:                 891   AIC:                             821.4\n",
       "Df Residuals:                     883   BIC:                             859.7\n",
       "Df Model:                           7                                         \n",
       "Covariance Type:            nonrobust                                         \n",
       "==============================================================================\n",
       "                 coef    std err          t      P>|t|      [0.025      0.975]\n",
       "------------------------------------------------------------------------------\n",
       "const          0.3203      0.020     16.340      0.000       0.282       0.359\n",
       "Age           -0.0050      0.001     -4.683      0.000      -0.007      -0.003\n",
       "Fare        2.177e-05      0.000      0.066      0.947      -0.001       0.001\n",
       "1              0.2786      0.030      9.182      0.000       0.219       0.338\n",
       "2              0.1224      0.024      5.197      0.000       0.076       0.169\n",
       "3             -0.0806      0.018     -4.475      0.000      -0.116      -0.045\n",
       "female         0.4049      0.017     24.073      0.000       0.372       0.438\n",
       "male          -0.0845      0.017     -4.919      0.000      -0.118      -0.051\n",
       "C              0.1347      0.027      5.036      0.000       0.082       0.187\n",
       "Q              0.1334      0.035      3.810      0.000       0.065       0.202\n",
       "S              0.0522      0.019      2.682      0.007       0.014       0.090\n",
       "==============================================================================\n",
       "Omnibus:                       37.641   Durbin-Watson:                   1.925\n",
       "Prob(Omnibus):                  0.000   Jarque-Bera (JB):               41.454\n",
       "Skew:                           0.525   Prob(JB):                     9.97e-10\n",
       "Kurtosis:                       3.122   Cond. No.                     7.61e+17\n",
       "==============================================================================\n",
       "\n",
       "Notes:\n",
       "[1] Standard Errors assume that the covariance matrix of the errors is correctly specified.\n",
       "[2] The smallest eigenvalue is 5.95e-30. This might indicate that there are\n",
       "strong multicollinearity problems or that the design matrix is singular.\n",
       "\"\"\""
      ]
     },
     "execution_count": 38,
     "metadata": {},
     "output_type": "execute_result"
    }
   ],
   "source": [
    "import statsmodels.api as sm\n",
    "X=sm.add_constant(X)\n",
    "model=sm.OLS(y,X)\n",
    "result=model.fit()\n",
    "result.summary()"
   ]
  },
  {
   "cell_type": "code",
   "execution_count": 39,
   "metadata": {},
   "outputs": [
    {
     "data": {
      "text/html": [
       "<table class=\"simpletable\">\n",
       "<tr>\n",
       "        <td>Model:</td>               <td>OLS</td>         <td>Adj. R-squared:</td>     <td>0.384</td> \n",
       "</tr>\n",
       "<tr>\n",
       "  <td>Dependent Variable:</td>     <td>Survived</td>            <td>AIC:</td>         <td>821.3565</td>\n",
       "</tr>\n",
       "<tr>\n",
       "         <td>Date:</td>        <td>2021-02-15 20:35</td>        <td>BIC:</td>         <td>859.6952</td>\n",
       "</tr>\n",
       "<tr>\n",
       "   <td>No. Observations:</td>         <td>891</td>         <td>Log-Likelihood:</td>    <td>-402.68</td>\n",
       "</tr>\n",
       "<tr>\n",
       "       <td>Df Model:</td>              <td>7</td>           <td>F-statistic:</td>       <td>80.22</td> \n",
       "</tr>\n",
       "<tr>\n",
       "     <td>Df Residuals:</td>           <td>883</td>       <td>Prob (F-statistic):</td> <td>4.95e-90</td>\n",
       "</tr>\n",
       "<tr>\n",
       "      <td>R-squared:</td>            <td>0.389</td>            <td>Scale:</td>         <td>0.14588</td>\n",
       "</tr>\n",
       "</table>\n",
       "<table class=\"simpletable\">\n",
       "<tr>\n",
       "     <td></td>     <th>Coef.</th>  <th>Std.Err.</th>    <th>t</th>     <th>P>|t|</th> <th>[0.025</th>  <th>0.975]</th> \n",
       "</tr>\n",
       "<tr>\n",
       "  <th>const</th>  <td>0.3203</td>   <td>0.0196</td>  <td>16.3398</td> <td>0.0000</td> <td>0.2819</td>  <td>0.3588</td> \n",
       "</tr>\n",
       "<tr>\n",
       "  <th>Age</th>    <td>-0.0050</td>  <td>0.0011</td>  <td>-4.6833</td> <td>0.0000</td> <td>-0.0071</td> <td>-0.0029</td>\n",
       "</tr>\n",
       "<tr>\n",
       "  <th>Fare</th>   <td>0.0000</td>   <td>0.0003</td>  <td>0.0663</td>  <td>0.9472</td> <td>-0.0006</td> <td>0.0007</td> \n",
       "</tr>\n",
       "<tr>\n",
       "  <th>1</th>      <td>0.2786</td>   <td>0.0303</td>  <td>9.1825</td>  <td>0.0000</td> <td>0.2190</td>  <td>0.3381</td> \n",
       "</tr>\n",
       "<tr>\n",
       "  <th>2</th>      <td>0.1224</td>   <td>0.0236</td>  <td>5.1965</td>  <td>0.0000</td> <td>0.0762</td>  <td>0.1687</td> \n",
       "</tr>\n",
       "<tr>\n",
       "  <th>3</th>      <td>-0.0806</td>  <td>0.0180</td>  <td>-4.4751</td> <td>0.0000</td> <td>-0.1160</td> <td>-0.0453</td>\n",
       "</tr>\n",
       "<tr>\n",
       "  <th>female</th> <td>0.4049</td>   <td>0.0168</td>  <td>24.0726</td> <td>0.0000</td> <td>0.3719</td>  <td>0.4379</td> \n",
       "</tr>\n",
       "<tr>\n",
       "  <th>male</th>   <td>-0.0845</td>  <td>0.0172</td>  <td>-4.9189</td> <td>0.0000</td> <td>-0.1183</td> <td>-0.0508</td>\n",
       "</tr>\n",
       "<tr>\n",
       "  <th>C</th>      <td>0.1347</td>   <td>0.0268</td>  <td>5.0364</td>  <td>0.0000</td> <td>0.0822</td>  <td>0.1872</td> \n",
       "</tr>\n",
       "<tr>\n",
       "  <th>Q</th>      <td>0.1334</td>   <td>0.0350</td>  <td>3.8096</td>  <td>0.0001</td> <td>0.0647</td>  <td>0.2022</td> \n",
       "</tr>\n",
       "<tr>\n",
       "  <th>S</th>      <td>0.0522</td>   <td>0.0195</td>  <td>2.6818</td>  <td>0.0075</td> <td>0.0140</td>  <td>0.0903</td> \n",
       "</tr>\n",
       "</table>\n",
       "<table class=\"simpletable\">\n",
       "<tr>\n",
       "     <td>Omnibus:</td>    <td>37.641</td>  <td>Durbin-Watson:</td>          <td>1.925</td>      \n",
       "</tr>\n",
       "<tr>\n",
       "  <td>Prob(Omnibus):</td>  <td>0.000</td> <td>Jarque-Bera (JB):</td>       <td>41.454</td>      \n",
       "</tr>\n",
       "<tr>\n",
       "       <td>Skew:</td>      <td>0.525</td>     <td>Prob(JB):</td>            <td>0.000</td>      \n",
       "</tr>\n",
       "<tr>\n",
       "     <td>Kurtosis:</td>    <td>3.122</td>  <td>Condition No.:</td>   <td>761029149346944896</td>\n",
       "</tr>\n",
       "</table>"
      ],
      "text/plain": [
       "<class 'statsmodels.iolib.summary2.Summary'>\n",
       "\"\"\"\n",
       "                 Results: Ordinary least squares\n",
       "=================================================================\n",
       "Model:              OLS              Adj. R-squared:     0.384   \n",
       "Dependent Variable: Survived         AIC:                821.3565\n",
       "Date:               2021-02-15 20:35 BIC:                859.6952\n",
       "No. Observations:   891              Log-Likelihood:     -402.68 \n",
       "Df Model:           7                F-statistic:        80.22   \n",
       "Df Residuals:       883              Prob (F-statistic): 4.95e-90\n",
       "R-squared:          0.389            Scale:              0.14588 \n",
       "-------------------------------------------------------------------\n",
       "           Coef.    Std.Err.      t      P>|t|     [0.025    0.975]\n",
       "-------------------------------------------------------------------\n",
       "const      0.3203     0.0196   16.3398   0.0000    0.2819    0.3588\n",
       "Age       -0.0050     0.0011   -4.6833   0.0000   -0.0071   -0.0029\n",
       "Fare       0.0000     0.0003    0.0663   0.9472   -0.0006    0.0007\n",
       "1          0.2786     0.0303    9.1825   0.0000    0.2190    0.3381\n",
       "2          0.1224     0.0236    5.1965   0.0000    0.0762    0.1687\n",
       "3         -0.0806     0.0180   -4.4751   0.0000   -0.1160   -0.0453\n",
       "female     0.4049     0.0168   24.0726   0.0000    0.3719    0.4379\n",
       "male      -0.0845     0.0172   -4.9189   0.0000   -0.1183   -0.0508\n",
       "C          0.1347     0.0268    5.0364   0.0000    0.0822    0.1872\n",
       "Q          0.1334     0.0350    3.8096   0.0001    0.0647    0.2022\n",
       "S          0.0522     0.0195    2.6818   0.0075    0.0140    0.0903\n",
       "-----------------------------------------------------------------\n",
       "Omnibus:          37.641   Durbin-Watson:      1.925             \n",
       "Prob(Omnibus):    0.000    Jarque-Bera (JB):   41.454            \n",
       "Skew:             0.525    Prob(JB):           0.000             \n",
       "Kurtosis:         3.122    Condition No.:      761029149346944896\n",
       "=================================================================\n",
       "* The condition number is large (8e+17). This might indicate\n",
       "strong multicollinearity or other numerical problems.\n",
       "\"\"\""
      ]
     },
     "execution_count": 39,
     "metadata": {},
     "output_type": "execute_result"
    }
   ],
   "source": [
    "result.summary2()"
   ]
  },
  {
   "cell_type": "code",
   "execution_count": 40,
   "metadata": {},
   "outputs": [
    {
     "name": "stdout",
     "output_type": "stream",
     "text": [
      "Accuracy: 0.850 (0.128)\n"
     ]
    }
   ],
   "source": [
    "#perform k fold cross validation using the logistic model object\n",
    "from numpy import mean\n",
    "from numpy import std\n",
    "from sklearn.datasets import make_classification\n",
    "from sklearn.model_selection import KFold\n",
    "from sklearn.model_selection import cross_val_score\n",
    "from sklearn.linear_model import LogisticRegression\n",
    "# create dataset\n",
    "X, y = make_classification(n_samples=100, n_features=20, n_informative=15, n_redundant=5, random_state=1)\n",
    "# prepare the cross-validation procedure\n",
    "cv = KFold(n_splits=10, random_state=1, shuffle=True)\n",
    "# create model\n",
    "model = LogisticRegression()\n",
    "# evaluate model\n",
    "scores = cross_val_score(model, X, y, scoring='accuracy', cv=cv, n_jobs=-1)\n",
    "# report performance\n",
    "print('Accuracy: %.3f (%.3f)' % (mean(scores), std(scores)))"
   ]
  },
  {
   "cell_type": "code",
   "execution_count": 41,
   "metadata": {},
   "outputs": [],
   "source": [
    "#from sklearn.datasets import load_iris\n",
    "from sklearn import tree\n",
    "#iris=load_iris()\n",
    "clf=tree.DecisionTreeClassifier()\n",
    "clf=clf.fit(X,y)"
   ]
  },
  {
   "cell_type": "code",
   "execution_count": 42,
   "metadata": {},
   "outputs": [
    {
     "data": {
      "text/plain": [
       "[Text(137.50714285714287, 199.32, 'X[3] <= -1.336\\ngini = 0.5\\nsamples = 100\\nvalue = [51, 49]'),\n",
       " Text(71.74285714285715, 163.07999999999998, 'X[11] <= -2.299\\ngini = 0.219\\nsamples = 32\\nvalue = [4, 28]'),\n",
       " Text(47.82857142857143, 126.83999999999999, 'X[11] <= -3.514\\ngini = 0.49\\nsamples = 7\\nvalue = [4, 3]'),\n",
       " Text(23.914285714285715, 90.6, 'gini = 0.0\\nsamples = 3\\nvalue = [0, 3]'),\n",
       " Text(71.74285714285715, 90.6, 'gini = 0.0\\nsamples = 4\\nvalue = [4, 0]'),\n",
       " Text(95.65714285714286, 126.83999999999999, 'gini = 0.0\\nsamples = 25\\nvalue = [0, 25]'),\n",
       " Text(203.27142857142857, 163.07999999999998, 'X[8] <= 1.291\\ngini = 0.427\\nsamples = 68\\nvalue = [47, 21]'),\n",
       " Text(143.4857142857143, 126.83999999999999, 'X[11] <= -1.547\\ngini = 0.219\\nsamples = 40\\nvalue = [35, 5]'),\n",
       " Text(119.57142857142857, 90.6, 'X[5] <= -1.796\\ngini = 0.473\\nsamples = 13\\nvalue = [8, 5]'),\n",
       " Text(95.65714285714286, 54.359999999999985, 'X[1] <= -2.593\\ngini = 0.198\\nsamples = 9\\nvalue = [8, 1]'),\n",
       " Text(71.74285714285715, 18.119999999999976, 'gini = 0.0\\nsamples = 1\\nvalue = [0, 1]'),\n",
       " Text(119.57142857142857, 18.119999999999976, 'gini = 0.0\\nsamples = 8\\nvalue = [8, 0]'),\n",
       " Text(143.4857142857143, 54.359999999999985, 'gini = 0.0\\nsamples = 4\\nvalue = [0, 4]'),\n",
       " Text(167.4, 90.6, 'gini = 0.0\\nsamples = 27\\nvalue = [27, 0]'),\n",
       " Text(263.0571428571429, 126.83999999999999, 'X[14] <= 2.522\\ngini = 0.49\\nsamples = 28\\nvalue = [12, 16]'),\n",
       " Text(239.14285714285714, 90.6, 'X[1] <= 0.385\\ngini = 0.397\\nsamples = 22\\nvalue = [6, 16]'),\n",
       " Text(191.31428571428572, 54.359999999999985, 'X[11] <= -4.097\\ngini = 0.124\\nsamples = 15\\nvalue = [1, 14]'),\n",
       " Text(167.4, 18.119999999999976, 'gini = 0.0\\nsamples = 1\\nvalue = [1, 0]'),\n",
       " Text(215.22857142857143, 18.119999999999976, 'gini = 0.0\\nsamples = 14\\nvalue = [0, 14]'),\n",
       " Text(286.9714285714286, 54.359999999999985, 'X[14] <= -1.05\\ngini = 0.408\\nsamples = 7\\nvalue = [5, 2]'),\n",
       " Text(263.0571428571429, 18.119999999999976, 'gini = 0.0\\nsamples = 2\\nvalue = [0, 2]'),\n",
       " Text(310.8857142857143, 18.119999999999976, 'gini = 0.0\\nsamples = 5\\nvalue = [5, 0]'),\n",
       " Text(286.9714285714286, 90.6, 'gini = 0.0\\nsamples = 6\\nvalue = [6, 0]')]"
      ]
     },
     "execution_count": 42,
     "metadata": {},
     "output_type": "execute_result"
    },
    {
     "data": {
      "image/png": "[encoded data removed]",
      "text/plain": [
       "<Figure size 432x288 with 1 Axes>"
      ]
     },
     "metadata": {},
     "output_type": "display_data"
    }
   ],
   "source": [
    "tree.plot_tree(clf)"
   ]
  },
  {
   "cell_type": "code",
   "execution_count": 43,
   "metadata": {},
   "outputs": [
    {
     "data": {
      "text/plain": [
       "'iris.pdf'"
      ]
     },
     "execution_count": 43,
     "metadata": {},
     "output_type": "execute_result"
    }
   ],
   "source": [
    "import graphviz\n",
    "dot_data=tree.export_graphviz(clf,out_file=None)\n",
    "graph=graphviz.Source(dot_data)\n",
    "graph.render(\"tree\")"
   ]
  },
  {
   "cell_type": "code",
   "execution_count": 45,
   "metadata": {},
   "outputs": [
    {
     "data": {
      "image/svg+xml": [
       "<?xml version=\"1.0\" encoding=\"UTF-8\" standalone=\"no\"?>\r\n",
       "<!DOCTYPE svg PUBLIC \"-//W3C//DTD SVG 1.1//EN\"\r\n",
       " \"http://www.w3.org/Graphics/SVG/1.1/DTD/svg11.dtd\">\r\n",
       "<!-- Generated by graphviz version 2.38.0 (20140413.2041)\r\n",
       " -->\r\n",
       "<!-- Title: Tree Pages: 1 -->\r\n",
       "<svg width=\"757pt\" height=\"561pt\"\r\n",
       " viewBox=\"0.00 0.00 757.00 561.00\" xmlns=\"http://www.w3.org/2000/svg\" xmlns:xlink=\"http://www.w3.org/1999/xlink\">\r\n",
       "<g id=\"graph0\" class=\"graph\" transform=\"scale(1 1) rotate(0) translate(4 557)\">\r\n",
       "<title>Tree</title>\r\n",
       "<polygon fill=\"white\" stroke=\"none\" points=\"-4,4 -4,-557 753,-557 753,4 -4,4\"/>\r\n",
       "<!-- 0 -->\r\n",
       "<g id=\"node1\" class=\"node\"><title>0</title>\r\n",
       "<path fill=\"#fefaf7\" stroke=\"black\" d=\"M386,-553C386,-553 297,-553 297,-553 291,-553 285,-547 285,-541 285,-541 285,-501 285,-501 285,-495 291,-489 297,-489 297,-489 386,-489 386,-489 392,-489 398,-495 398,-501 398,-501 398,-541 398,-541 398,-547 392,-553 386,-553\"/>\r\n",
       "<text text-anchor=\"start\" x=\"304.5\" y=\"-538.8\" font-family=\"Helvetica,sans-Serif\" font-size=\"14.00\">X</text>\r\n",
       "<text text-anchor=\"start\" x=\"314.5\" y=\"-538.8\" font-family=\"Helvetica,sans-Serif\" baseline-shift=\"sub\" font-size=\"14.00\">3</text>\r\n",
       "<text text-anchor=\"start\" x=\"321.5\" y=\"-538.8\" font-family=\"Helvetica,sans-Serif\" font-size=\"14.00\"> ≤ &#45;1.336</text>\r\n",
       "<text text-anchor=\"start\" x=\"312.5\" y=\"-524.8\" font-family=\"Helvetica,sans-Serif\" font-size=\"14.00\">gini = 0.5</text>\r\n",
       "<text text-anchor=\"start\" x=\"294\" y=\"-510.8\" font-family=\"Helvetica,sans-Serif\" font-size=\"14.00\">samples = 100</text>\r\n",
       "<text text-anchor=\"start\" x=\"293\" y=\"-496.8\" font-family=\"Helvetica,sans-Serif\" font-size=\"14.00\">value = [51, 49]</text>\r\n",
       "</g>\r\n",
       "<!-- 1 -->\r\n",
       "<g id=\"node2\" class=\"node\"><title>1</title>\r\n",
       "<path fill=\"#55abe9\" stroke=\"black\" d=\"M319,-453C319,-453 238,-453 238,-453 232,-453 226,-447 226,-441 226,-441 226,-401 226,-401 226,-395 232,-389 238,-389 238,-389 319,-389 319,-389 325,-389 331,-395 331,-401 331,-401 331,-441 331,-441 331,-447 325,-453 319,-453\"/>\r\n",
       "<text text-anchor=\"start\" x=\"238\" y=\"-438.8\" font-family=\"Helvetica,sans-Serif\" font-size=\"14.00\">X</text>\r\n",
       "<text text-anchor=\"start\" x=\"248\" y=\"-438.8\" font-family=\"Helvetica,sans-Serif\" baseline-shift=\"sub\" font-size=\"14.00\">11</text>\r\n",
       "<text text-anchor=\"start\" x=\"262\" y=\"-438.8\" font-family=\"Helvetica,sans-Serif\" font-size=\"14.00\"> ≤ &#45;2.299</text>\r\n",
       "<text text-anchor=\"start\" x=\"241\" y=\"-424.8\" font-family=\"Helvetica,sans-Serif\" font-size=\"14.00\">gini = 0.219</text>\r\n",
       "<text text-anchor=\"start\" x=\"235\" y=\"-410.8\" font-family=\"Helvetica,sans-Serif\" font-size=\"14.00\">samples = 32</text>\r\n",
       "<text text-anchor=\"start\" x=\"234\" y=\"-396.8\" font-family=\"Helvetica,sans-Serif\" font-size=\"14.00\">value = [4, 28]</text>\r\n",
       "</g>\r\n",
       "<!-- 0&#45;&gt;1 -->\r\n",
       "<g id=\"edge1\" class=\"edge\"><title>0&#45;&gt;1</title>\r\n",
       "<path fill=\"none\" stroke=\"black\" d=\"M321.566,-488.992C315.993,-480.323 309.86,-470.782 304.012,-461.685\"/>\r\n",
       "<polygon fill=\"black\" stroke=\"black\" points=\"306.872,-459.662 298.52,-453.142 300.984,-463.447 306.872,-459.662\"/>\r\n",
       "<text text-anchor=\"middle\" x=\"293.209\" y=\"-473.872\" font-family=\"Helvetica,sans-Serif\" font-size=\"14.00\">True</text>\r\n",
       "</g>\r\n",
       "<!-- 6 -->\r\n",
       "<g id=\"node7\" class=\"node\"><title>6</title>\r\n",
       "<path fill=\"#f1b991\" stroke=\"black\" d=\"M450,-453C450,-453 361,-453 361,-453 355,-453 349,-447 349,-441 349,-441 349,-401 349,-401 349,-395 355,-389 361,-389 361,-389 450,-389 450,-389 456,-389 462,-395 462,-401 462,-401 462,-441 462,-441 462,-447 456,-453 450,-453\"/>\r\n",
       "<text text-anchor=\"start\" x=\"371\" y=\"-438.8\" font-family=\"Helvetica,sans-Serif\" font-size=\"14.00\">X</text>\r\n",
       "<text text-anchor=\"start\" x=\"381\" y=\"-438.8\" font-family=\"Helvetica,sans-Serif\" baseline-shift=\"sub\" font-size=\"14.00\">8</text>\r\n",
       "<text text-anchor=\"start\" x=\"388\" y=\"-438.8\" font-family=\"Helvetica,sans-Serif\" font-size=\"14.00\"> ≤ 1.291</text>\r\n",
       "<text text-anchor=\"start\" x=\"368\" y=\"-424.8\" font-family=\"Helvetica,sans-Serif\" font-size=\"14.00\">gini = 0.427</text>\r\n",
       "<text text-anchor=\"start\" x=\"362\" y=\"-410.8\" font-family=\"Helvetica,sans-Serif\" font-size=\"14.00\">samples = 68</text>\r\n",
       "<text text-anchor=\"start\" x=\"357\" y=\"-396.8\" font-family=\"Helvetica,sans-Serif\" font-size=\"14.00\">value = [47, 21]</text>\r\n",
       "</g>\r\n",
       "<!-- 0&#45;&gt;6 -->\r\n",
       "<g id=\"edge6\" class=\"edge\"><title>0&#45;&gt;6</title>\r\n",
       "<path fill=\"none\" stroke=\"black\" d=\"M361.75,-488.992C367.411,-480.323 373.643,-470.782 379.583,-461.685\"/>\r\n",
       "<polygon fill=\"black\" stroke=\"black\" points=\"382.625,-463.429 385.162,-453.142 376.764,-459.601 382.625,-463.429\"/>\r\n",
       "<text text-anchor=\"middle\" x=\"390.297\" y=\"-473.909\" font-family=\"Helvetica,sans-Serif\" font-size=\"14.00\">False</text>\r\n",
       "</g>\r\n",
       "<!-- 2 -->\r\n",
       "<g id=\"node3\" class=\"node\"><title>2</title>\r\n",
       "<path fill=\"#f8e0ce\" stroke=\"black\" d=\"M197,-353C197,-353 124,-353 124,-353 118,-353 112,-347 112,-341 112,-341 112,-301 112,-301 112,-295 118,-289 124,-289 124,-289 197,-289 197,-289 203,-289 209,-295 209,-301 209,-301 209,-341 209,-341 209,-347 203,-353 197,-353\"/>\r\n",
       "<text text-anchor=\"start\" x=\"120\" y=\"-338.8\" font-family=\"Helvetica,sans-Serif\" font-size=\"14.00\">X</text>\r\n",
       "<text text-anchor=\"start\" x=\"130\" y=\"-338.8\" font-family=\"Helvetica,sans-Serif\" baseline-shift=\"sub\" font-size=\"14.00\">11</text>\r\n",
       "<text text-anchor=\"start\" x=\"144\" y=\"-338.8\" font-family=\"Helvetica,sans-Serif\" font-size=\"14.00\"> ≤ &#45;3.514</text>\r\n",
       "<text text-anchor=\"start\" x=\"127\" y=\"-324.8\" font-family=\"Helvetica,sans-Serif\" font-size=\"14.00\">gini = 0.49</text>\r\n",
       "<text text-anchor=\"start\" x=\"121\" y=\"-310.8\" font-family=\"Helvetica,sans-Serif\" font-size=\"14.00\">samples = 7</text>\r\n",
       "<text text-anchor=\"start\" x=\"120\" y=\"-296.8\" font-family=\"Helvetica,sans-Serif\" font-size=\"14.00\">value = [4, 3]</text>\r\n",
       "</g>\r\n",
       "<!-- 1&#45;&gt;2 -->\r\n",
       "<g id=\"edge2\" class=\"edge\"><title>1&#45;&gt;2</title>\r\n",
       "<path fill=\"none\" stroke=\"black\" d=\"M241.164,-388.992C229.973,-379.698 217.573,-369.4 205.921,-359.723\"/>\r\n",
       "<polygon fill=\"black\" stroke=\"black\" points=\"207.927,-356.839 197.998,-353.142 203.455,-362.224 207.927,-356.839\"/>\r\n",
       "</g>\r\n",
       "<!-- 5 -->\r\n",
       "<g id=\"node6\" class=\"node\"><title>5</title>\r\n",
       "<path fill=\"#399de5\" stroke=\"black\" d=\"M320,-347.5C320,-347.5 239,-347.5 239,-347.5 233,-347.5 227,-341.5 227,-335.5 227,-335.5 227,-306.5 227,-306.5 227,-300.5 233,-294.5 239,-294.5 239,-294.5 320,-294.5 320,-294.5 326,-294.5 332,-300.5 332,-306.5 332,-306.5 332,-335.5 332,-335.5 332,-341.5 326,-347.5 320,-347.5\"/>\r\n",
       "<text text-anchor=\"start\" x=\"250.5\" y=\"-332.3\" font-family=\"Helvetica,sans-Serif\" font-size=\"14.00\">gini = 0.0</text>\r\n",
       "<text text-anchor=\"start\" x=\"236\" y=\"-317.3\" font-family=\"Helvetica,sans-Serif\" font-size=\"14.00\">samples = 25</text>\r\n",
       "<text text-anchor=\"start\" x=\"235\" y=\"-302.3\" font-family=\"Helvetica,sans-Serif\" font-size=\"14.00\">value = [0, 25]</text>\r\n",
       "</g>\r\n",
       "<!-- 1&#45;&gt;5 -->\r\n",
       "<g id=\"edge5\" class=\"edge\"><title>1&#45;&gt;5</title>\r\n",
       "<path fill=\"none\" stroke=\"black\" d=\"M278.816,-388.992C278.917,-379.087 279.03,-368.042 279.134,-357.824\"/>\r\n",
       "<polygon fill=\"black\" stroke=\"black\" points=\"282.637,-357.592 279.239,-347.556 275.637,-357.52 282.637,-357.592\"/>\r\n",
       "</g>\r\n",
       "<!-- 3 -->\r\n",
       "<g id=\"node4\" class=\"node\"><title>3</title>\r\n",
       "<path fill=\"#399de5\" stroke=\"black\" d=\"M85,-247.5C85,-247.5 12,-247.5 12,-247.5 6,-247.5 0,-241.5 0,-235.5 0,-235.5 0,-206.5 0,-206.5 0,-200.5 6,-194.5 12,-194.5 12,-194.5 85,-194.5 85,-194.5 91,-194.5 97,-200.5 97,-206.5 97,-206.5 97,-235.5 97,-235.5 97,-241.5 91,-247.5 85,-247.5\"/>\r\n",
       "<text text-anchor=\"start\" x=\"19.5\" y=\"-232.3\" font-family=\"Helvetica,sans-Serif\" font-size=\"14.00\">gini = 0.0</text>\r\n",
       "<text text-anchor=\"start\" x=\"9\" y=\"-217.3\" font-family=\"Helvetica,sans-Serif\" font-size=\"14.00\">samples = 3</text>\r\n",
       "<text text-anchor=\"start\" x=\"8\" y=\"-202.3\" font-family=\"Helvetica,sans-Serif\" font-size=\"14.00\">value = [0, 3]</text>\r\n",
       "</g>\r\n",
       "<!-- 2&#45;&gt;3 -->\r\n",
       "<g id=\"edge3\" class=\"edge\"><title>2&#45;&gt;3</title>\r\n",
       "<path fill=\"none\" stroke=\"black\" d=\"M125.063,-288.992C112.431,-277.94 98.1795,-265.47 85.4264,-254.311\"/>\r\n",
       "<polygon fill=\"black\" stroke=\"black\" points=\"87.5379,-251.507 77.7073,-247.556 82.9283,-256.776 87.5379,-251.507\"/>\r\n",
       "</g>\r\n",
       "<!-- 4 -->\r\n",
       "<g id=\"node5\" class=\"node\"><title>4</title>\r\n",
       "<path fill=\"#e58139\" stroke=\"black\" d=\"M200,-247.5C200,-247.5 127,-247.5 127,-247.5 121,-247.5 115,-241.5 115,-235.5 115,-235.5 115,-206.5 115,-206.5 115,-200.5 121,-194.5 127,-194.5 127,-194.5 200,-194.5 200,-194.5 206,-194.5 212,-200.5 212,-206.5 212,-206.5 212,-235.5 212,-235.5 212,-241.5 206,-247.5 200,-247.5\"/>\r\n",
       "<text text-anchor=\"start\" x=\"134.5\" y=\"-232.3\" font-family=\"Helvetica,sans-Serif\" font-size=\"14.00\">gini = 0.0</text>\r\n",
       "<text text-anchor=\"start\" x=\"124\" y=\"-217.3\" font-family=\"Helvetica,sans-Serif\" font-size=\"14.00\">samples = 4</text>\r\n",
       "<text text-anchor=\"start\" x=\"123\" y=\"-202.3\" font-family=\"Helvetica,sans-Serif\" font-size=\"14.00\">value = [4, 0]</text>\r\n",
       "</g>\r\n",
       "<!-- 2&#45;&gt;4 -->\r\n",
       "<g id=\"edge4\" class=\"edge\"><title>2&#45;&gt;4</title>\r\n",
       "<path fill=\"none\" stroke=\"black\" d=\"M161.449,-288.992C161.752,-279.087 162.091,-268.042 162.403,-257.824\"/>\r\n",
       "<polygon fill=\"black\" stroke=\"black\" points=\"165.91,-257.659 162.718,-247.556 158.913,-257.445 165.91,-257.659\"/>\r\n",
       "</g>\r\n",
       "<!-- 7 -->\r\n",
       "<g id=\"node8\" class=\"node\"><title>7</title>\r\n",
       "<path fill=\"#e99355\" stroke=\"black\" d=\"M445,-353C445,-353 364,-353 364,-353 358,-353 352,-347 352,-341 352,-341 352,-301 352,-301 352,-295 358,-289 364,-289 364,-289 445,-289 445,-289 451,-289 457,-295 457,-301 457,-301 457,-341 457,-341 457,-347 451,-353 445,-353\"/>\r\n",
       "<text text-anchor=\"start\" x=\"364\" y=\"-338.8\" font-family=\"Helvetica,sans-Serif\" font-size=\"14.00\">X</text>\r\n",
       "<text text-anchor=\"start\" x=\"374\" y=\"-338.8\" font-family=\"Helvetica,sans-Serif\" baseline-shift=\"sub\" font-size=\"14.00\">11</text>\r\n",
       "<text text-anchor=\"start\" x=\"388\" y=\"-338.8\" font-family=\"Helvetica,sans-Serif\" font-size=\"14.00\"> ≤ &#45;1.547</text>\r\n",
       "<text text-anchor=\"start\" x=\"367\" y=\"-324.8\" font-family=\"Helvetica,sans-Serif\" font-size=\"14.00\">gini = 0.219</text>\r\n",
       "<text text-anchor=\"start\" x=\"361\" y=\"-310.8\" font-family=\"Helvetica,sans-Serif\" font-size=\"14.00\">samples = 40</text>\r\n",
       "<text text-anchor=\"start\" x=\"360\" y=\"-296.8\" font-family=\"Helvetica,sans-Serif\" font-size=\"14.00\">value = [35, 5]</text>\r\n",
       "</g>\r\n",
       "<!-- 6&#45;&gt;7 -->\r\n",
       "<g id=\"edge7\" class=\"edge\"><title>6&#45;&gt;7</title>\r\n",
       "<path fill=\"none\" stroke=\"black\" d=\"M405.184,-388.992C405.101,-380.859 405.01,-371.959 404.922,-363.378\"/>\r\n",
       "<polygon fill=\"black\" stroke=\"black\" points=\"408.42,-363.106 404.818,-353.142 401.42,-363.178 408.42,-363.106\"/>\r\n",
       "</g>\r\n",
       "<!-- 14 -->\r\n",
       "<g id=\"node15\" class=\"node\"><title>14</title>\r\n",
       "<path fill=\"#cee6f8\" stroke=\"black\" d=\"M576,-353C576,-353 487,-353 487,-353 481,-353 475,-347 475,-341 475,-341 475,-301 475,-301 475,-295 481,-289 487,-289 487,-289 576,-289 576,-289 582,-289 588,-295 588,-301 588,-301 588,-341 588,-341 588,-347 582,-353 576,-353\"/>\r\n",
       "<text text-anchor=\"start\" x=\"493.5\" y=\"-338.8\" font-family=\"Helvetica,sans-Serif\" font-size=\"14.00\">X</text>\r\n",
       "<text text-anchor=\"start\" x=\"503.5\" y=\"-338.8\" font-family=\"Helvetica,sans-Serif\" baseline-shift=\"sub\" font-size=\"14.00\">14</text>\r\n",
       "<text text-anchor=\"start\" x=\"517.5\" y=\"-338.8\" font-family=\"Helvetica,sans-Serif\" font-size=\"14.00\"> ≤ 2.522</text>\r\n",
       "<text text-anchor=\"start\" x=\"498\" y=\"-324.8\" font-family=\"Helvetica,sans-Serif\" font-size=\"14.00\">gini = 0.49</text>\r\n",
       "<text text-anchor=\"start\" x=\"488\" y=\"-310.8\" font-family=\"Helvetica,sans-Serif\" font-size=\"14.00\">samples = 28</text>\r\n",
       "<text text-anchor=\"start\" x=\"483\" y=\"-296.8\" font-family=\"Helvetica,sans-Serif\" font-size=\"14.00\">value = [12, 16]</text>\r\n",
       "</g>\r\n",
       "<!-- 6&#45;&gt;14 -->\r\n",
       "<g id=\"edge14\" class=\"edge\"><title>6&#45;&gt;14</title>\r\n",
       "<path fill=\"none\" stroke=\"black\" d=\"M445.367,-388.992C457.432,-379.608 470.812,-369.202 483.358,-359.444\"/>\r\n",
       "<polygon fill=\"black\" stroke=\"black\" points=\"485.715,-362.045 491.46,-353.142 481.417,-356.519 485.715,-362.045\"/>\r\n",
       "</g>\r\n",
       "<!-- 8 -->\r\n",
       "<g id=\"node9\" class=\"node\"><title>8</title>\r\n",
       "<path fill=\"#f5d0b5\" stroke=\"black\" d=\"M323,-253C323,-253 244,-253 244,-253 238,-253 232,-247 232,-241 232,-241 232,-201 232,-201 232,-195 238,-189 244,-189 244,-189 323,-189 323,-189 329,-189 335,-195 335,-201 335,-201 335,-241 335,-241 335,-247 329,-253 323,-253\"/>\r\n",
       "<text text-anchor=\"start\" x=\"246.5\" y=\"-238.8\" font-family=\"Helvetica,sans-Serif\" font-size=\"14.00\">X</text>\r\n",
       "<text text-anchor=\"start\" x=\"256.5\" y=\"-238.8\" font-family=\"Helvetica,sans-Serif\" baseline-shift=\"sub\" font-size=\"14.00\">5</text>\r\n",
       "<text text-anchor=\"start\" x=\"263.5\" y=\"-238.8\" font-family=\"Helvetica,sans-Serif\" font-size=\"14.00\"> ≤ &#45;1.796</text>\r\n",
       "<text text-anchor=\"start\" x=\"246\" y=\"-224.8\" font-family=\"Helvetica,sans-Serif\" font-size=\"14.00\">gini = 0.473</text>\r\n",
       "<text text-anchor=\"start\" x=\"240\" y=\"-210.8\" font-family=\"Helvetica,sans-Serif\" font-size=\"14.00\">samples = 13</text>\r\n",
       "<text text-anchor=\"start\" x=\"243\" y=\"-196.8\" font-family=\"Helvetica,sans-Serif\" font-size=\"14.00\">value = [8, 5]</text>\r\n",
       "</g>\r\n",
       "<!-- 7&#45;&gt;8 -->\r\n",
       "<g id=\"edge8\" class=\"edge\"><title>7&#45;&gt;8</title>\r\n",
       "<path fill=\"none\" stroke=\"black\" d=\"M366.215,-288.992C354.629,-279.608 341.78,-269.202 329.732,-259.444\"/>\r\n",
       "<polygon fill=\"black\" stroke=\"black\" points=\"331.925,-256.716 321.951,-253.142 327.52,-262.156 331.925,-256.716\"/>\r\n",
       "</g>\r\n",
       "<!-- 13 -->\r\n",
       "<g id=\"node14\" class=\"node\"><title>13</title>\r\n",
       "<path fill=\"#e58139\" stroke=\"black\" d=\"M446,-247.5C446,-247.5 365,-247.5 365,-247.5 359,-247.5 353,-241.5 353,-235.5 353,-235.5 353,-206.5 353,-206.5 353,-200.5 359,-194.5 365,-194.5 365,-194.5 446,-194.5 446,-194.5 452,-194.5 458,-200.5 458,-206.5 458,-206.5 458,-235.5 458,-235.5 458,-241.5 452,-247.5 446,-247.5\"/>\r\n",
       "<text text-anchor=\"start\" x=\"376.5\" y=\"-232.3\" font-family=\"Helvetica,sans-Serif\" font-size=\"14.00\">gini = 0.0</text>\r\n",
       "<text text-anchor=\"start\" x=\"362\" y=\"-217.3\" font-family=\"Helvetica,sans-Serif\" font-size=\"14.00\">samples = 27</text>\r\n",
       "<text text-anchor=\"start\" x=\"361\" y=\"-202.3\" font-family=\"Helvetica,sans-Serif\" font-size=\"14.00\">value = [27, 0]</text>\r\n",
       "</g>\r\n",
       "<!-- 7&#45;&gt;13 -->\r\n",
       "<g id=\"edge13\" class=\"edge\"><title>7&#45;&gt;13</title>\r\n",
       "<path fill=\"none\" stroke=\"black\" d=\"M404.816,-288.992C404.917,-279.087 405.03,-268.042 405.134,-257.824\"/>\r\n",
       "<polygon fill=\"black\" stroke=\"black\" points=\"408.637,-257.592 405.239,-247.556 401.637,-257.52 408.637,-257.592\"/>\r\n",
       "</g>\r\n",
       "<!-- 9 -->\r\n",
       "<g id=\"node10\" class=\"node\"><title>9</title>\r\n",
       "<path fill=\"#e89152\" stroke=\"black\" d=\"M207,-153C207,-153 134,-153 134,-153 128,-153 122,-147 122,-141 122,-141 122,-101 122,-101 122,-95 128,-89 134,-89 134,-89 207,-89 207,-89 213,-89 219,-95 219,-101 219,-101 219,-141 219,-141 219,-147 213,-153 207,-153\"/>\r\n",
       "<text text-anchor=\"start\" x=\"133.5\" y=\"-138.8\" font-family=\"Helvetica,sans-Serif\" font-size=\"14.00\">X</text>\r\n",
       "<text text-anchor=\"start\" x=\"143.5\" y=\"-138.8\" font-family=\"Helvetica,sans-Serif\" baseline-shift=\"sub\" font-size=\"14.00\">1</text>\r\n",
       "<text text-anchor=\"start\" x=\"150.5\" y=\"-138.8\" font-family=\"Helvetica,sans-Serif\" font-size=\"14.00\"> ≤ &#45;2.593</text>\r\n",
       "<text text-anchor=\"start\" x=\"133\" y=\"-124.8\" font-family=\"Helvetica,sans-Serif\" font-size=\"14.00\">gini = 0.198</text>\r\n",
       "<text text-anchor=\"start\" x=\"131\" y=\"-110.8\" font-family=\"Helvetica,sans-Serif\" font-size=\"14.00\">samples = 9</text>\r\n",
       "<text text-anchor=\"start\" x=\"130\" y=\"-96.8\" font-family=\"Helvetica,sans-Serif\" font-size=\"14.00\">value = [8, 1]</text>\r\n",
       "</g>\r\n",
       "<!-- 8&#45;&gt;9 -->\r\n",
       "<g id=\"edge9\" class=\"edge\"><title>8&#45;&gt;9</title>\r\n",
       "<path fill=\"none\" stroke=\"black\" d=\"M247.746,-188.992C237.029,-179.698 225.155,-169.4 213.997,-159.723\"/>\r\n",
       "<polygon fill=\"black\" stroke=\"black\" points=\"216.257,-157.05 206.409,-153.142 211.671,-162.338 216.257,-157.05\"/>\r\n",
       "</g>\r\n",
       "<!-- 12 -->\r\n",
       "<g id=\"node13\" class=\"node\"><title>12</title>\r\n",
       "<path fill=\"#399de5\" stroke=\"black\" d=\"M322,-147.5C322,-147.5 249,-147.5 249,-147.5 243,-147.5 237,-141.5 237,-135.5 237,-135.5 237,-106.5 237,-106.5 237,-100.5 243,-94.5 249,-94.5 249,-94.5 322,-94.5 322,-94.5 328,-94.5 334,-100.5 334,-106.5 334,-106.5 334,-135.5 334,-135.5 334,-141.5 328,-147.5 322,-147.5\"/>\r\n",
       "<text text-anchor=\"start\" x=\"256.5\" y=\"-132.3\" font-family=\"Helvetica,sans-Serif\" font-size=\"14.00\">gini = 0.0</text>\r\n",
       "<text text-anchor=\"start\" x=\"246\" y=\"-117.3\" font-family=\"Helvetica,sans-Serif\" font-size=\"14.00\">samples = 4</text>\r\n",
       "<text text-anchor=\"start\" x=\"245\" y=\"-102.3\" font-family=\"Helvetica,sans-Serif\" font-size=\"14.00\">value = [0, 4]</text>\r\n",
       "</g>\r\n",
       "<!-- 8&#45;&gt;12 -->\r\n",
       "<g id=\"edge12\" class=\"edge\"><title>8&#45;&gt;12</title>\r\n",
       "<path fill=\"none\" stroke=\"black\" d=\"M284.133,-188.992C284.335,-179.087 284.56,-168.042 284.769,-157.824\"/>\r\n",
       "<polygon fill=\"black\" stroke=\"black\" points=\"288.274,-157.626 284.978,-147.556 281.275,-157.483 288.274,-157.626\"/>\r\n",
       "</g>\r\n",
       "<!-- 10 -->\r\n",
       "<g id=\"node11\" class=\"node\"><title>10</title>\r\n",
       "<path fill=\"#399de5\" stroke=\"black\" d=\"M151,-53C151,-53 78,-53 78,-53 72,-53 66,-47 66,-41 66,-41 66,-12 66,-12 66,-6 72,-0 78,-0 78,-0 151,-0 151,-0 157,-0 163,-6 163,-12 163,-12 163,-41 163,-41 163,-47 157,-53 151,-53\"/>\r\n",
       "<text text-anchor=\"start\" x=\"85.5\" y=\"-37.8\" font-family=\"Helvetica,sans-Serif\" font-size=\"14.00\">gini = 0.0</text>\r\n",
       "<text text-anchor=\"start\" x=\"75\" y=\"-22.8\" font-family=\"Helvetica,sans-Serif\" font-size=\"14.00\">samples = 1</text>\r\n",
       "<text text-anchor=\"start\" x=\"74\" y=\"-7.8\" font-family=\"Helvetica,sans-Serif\" font-size=\"14.00\">value = [0, 1]</text>\r\n",
       "</g>\r\n",
       "<!-- 9&#45;&gt;10 -->\r\n",
       "<g id=\"edge10\" class=\"edge\"><title>9&#45;&gt;10</title>\r\n",
       "<path fill=\"none\" stroke=\"black\" d=\"M151.697,-88.9415C146.407,-80.2028 140.623,-70.6501 135.227,-61.737\"/>\r\n",
       "<polygon fill=\"black\" stroke=\"black\" points=\"138.166,-59.8327 129.993,-53.0908 132.178,-63.458 138.166,-59.8327\"/>\r\n",
       "</g>\r\n",
       "<!-- 11 -->\r\n",
       "<g id=\"node12\" class=\"node\"><title>11</title>\r\n",
       "<path fill=\"#e58139\" stroke=\"black\" d=\"M266,-53C266,-53 193,-53 193,-53 187,-53 181,-47 181,-41 181,-41 181,-12 181,-12 181,-6 187,-0 193,-0 193,-0 266,-0 266,-0 272,-0 278,-6 278,-12 278,-12 278,-41 278,-41 278,-47 272,-53 266,-53\"/>\r\n",
       "<text text-anchor=\"start\" x=\"200.5\" y=\"-37.8\" font-family=\"Helvetica,sans-Serif\" font-size=\"14.00\">gini = 0.0</text>\r\n",
       "<text text-anchor=\"start\" x=\"190\" y=\"-22.8\" font-family=\"Helvetica,sans-Serif\" font-size=\"14.00\">samples = 8</text>\r\n",
       "<text text-anchor=\"start\" x=\"189\" y=\"-7.8\" font-family=\"Helvetica,sans-Serif\" font-size=\"14.00\">value = [8, 0]</text>\r\n",
       "</g>\r\n",
       "<!-- 9&#45;&gt;11 -->\r\n",
       "<g id=\"edge11\" class=\"edge\"><title>9&#45;&gt;11</title>\r\n",
       "<path fill=\"none\" stroke=\"black\" d=\"M190.31,-88.9415C195.884,-80.2028 201.977,-70.6501 207.662,-61.737\"/>\r\n",
       "<polygon fill=\"black\" stroke=\"black\" points=\"210.75,-63.404 213.177,-53.0908 204.849,-59.6397 210.75,-63.404\"/>\r\n",
       "</g>\r\n",
       "<!-- 15 -->\r\n",
       "<g id=\"node16\" class=\"node\"><title>15</title>\r\n",
       "<path fill=\"#83c2ef\" stroke=\"black\" d=\"M571,-253C571,-253 490,-253 490,-253 484,-253 478,-247 478,-241 478,-241 478,-201 478,-201 478,-195 484,-189 490,-189 490,-189 571,-189 571,-189 577,-189 583,-195 583,-201 583,-201 583,-241 583,-241 583,-247 577,-253 571,-253\"/>\r\n",
       "<text text-anchor=\"start\" x=\"496\" y=\"-238.8\" font-family=\"Helvetica,sans-Serif\" font-size=\"14.00\">X</text>\r\n",
       "<text text-anchor=\"start\" x=\"506\" y=\"-238.8\" font-family=\"Helvetica,sans-Serif\" baseline-shift=\"sub\" font-size=\"14.00\">1</text>\r\n",
       "<text text-anchor=\"start\" x=\"513\" y=\"-238.8\" font-family=\"Helvetica,sans-Serif\" font-size=\"14.00\"> ≤ 0.385</text>\r\n",
       "<text text-anchor=\"start\" x=\"493\" y=\"-224.8\" font-family=\"Helvetica,sans-Serif\" font-size=\"14.00\">gini = 0.397</text>\r\n",
       "<text text-anchor=\"start\" x=\"487\" y=\"-210.8\" font-family=\"Helvetica,sans-Serif\" font-size=\"14.00\">samples = 22</text>\r\n",
       "<text text-anchor=\"start\" x=\"486\" y=\"-196.8\" font-family=\"Helvetica,sans-Serif\" font-size=\"14.00\">value = [6, 16]</text>\r\n",
       "</g>\r\n",
       "<!-- 14&#45;&gt;15 -->\r\n",
       "<g id=\"edge15\" class=\"edge\"><title>14&#45;&gt;15</title>\r\n",
       "<path fill=\"none\" stroke=\"black\" d=\"M531.184,-288.992C531.101,-280.859 531.01,-271.959 530.922,-263.378\"/>\r\n",
       "<polygon fill=\"black\" stroke=\"black\" points=\"534.42,-263.106 530.818,-253.142 527.42,-263.178 534.42,-263.106\"/>\r\n",
       "</g>\r\n",
       "<!-- 22 -->\r\n",
       "<g id=\"node23\" class=\"node\"><title>22</title>\r\n",
       "<path fill=\"#e58139\" stroke=\"black\" d=\"M686,-247.5C686,-247.5 613,-247.5 613,-247.5 607,-247.5 601,-241.5 601,-235.5 601,-235.5 601,-206.5 601,-206.5 601,-200.5 607,-194.5 613,-194.5 613,-194.5 686,-194.5 686,-194.5 692,-194.5 698,-200.5 698,-206.5 698,-206.5 698,-235.5 698,-235.5 698,-241.5 692,-247.5 686,-247.5\"/>\r\n",
       "<text text-anchor=\"start\" x=\"620.5\" y=\"-232.3\" font-family=\"Helvetica,sans-Serif\" font-size=\"14.00\">gini = 0.0</text>\r\n",
       "<text text-anchor=\"start\" x=\"610\" y=\"-217.3\" font-family=\"Helvetica,sans-Serif\" font-size=\"14.00\">samples = 6</text>\r\n",
       "<text text-anchor=\"start\" x=\"609\" y=\"-202.3\" font-family=\"Helvetica,sans-Serif\" font-size=\"14.00\">value = [6, 0]</text>\r\n",
       "</g>\r\n",
       "<!-- 14&#45;&gt;22 -->\r\n",
       "<g id=\"edge22\" class=\"edge\"><title>14&#45;&gt;22</title>\r\n",
       "<path fill=\"none\" stroke=\"black\" d=\"M568.836,-288.992C582.269,-277.836 597.443,-265.234 610.975,-253.995\"/>\r\n",
       "<polygon fill=\"black\" stroke=\"black\" points=\"613.271,-256.638 618.728,-247.556 608.799,-251.253 613.271,-256.638\"/>\r\n",
       "</g>\r\n",
       "<!-- 16 -->\r\n",
       "<g id=\"node17\" class=\"node\"><title>16</title>\r\n",
       "<path fill=\"#47a4e7\" stroke=\"black\" d=\"M507,-153C507,-153 426,-153 426,-153 420,-153 414,-147 414,-141 414,-141 414,-101 414,-101 414,-95 420,-89 426,-89 426,-89 507,-89 507,-89 513,-89 519,-95 519,-101 519,-101 519,-141 519,-141 519,-147 513,-153 507,-153\"/>\r\n",
       "<text text-anchor=\"start\" x=\"426\" y=\"-138.8\" font-family=\"Helvetica,sans-Serif\" font-size=\"14.00\">X</text>\r\n",
       "<text text-anchor=\"start\" x=\"436\" y=\"-138.8\" font-family=\"Helvetica,sans-Serif\" baseline-shift=\"sub\" font-size=\"14.00\">11</text>\r\n",
       "<text text-anchor=\"start\" x=\"450\" y=\"-138.8\" font-family=\"Helvetica,sans-Serif\" font-size=\"14.00\"> ≤ &#45;4.097</text>\r\n",
       "<text text-anchor=\"start\" x=\"429\" y=\"-124.8\" font-family=\"Helvetica,sans-Serif\" font-size=\"14.00\">gini = 0.124</text>\r\n",
       "<text text-anchor=\"start\" x=\"423\" y=\"-110.8\" font-family=\"Helvetica,sans-Serif\" font-size=\"14.00\">samples = 15</text>\r\n",
       "<text text-anchor=\"start\" x=\"422\" y=\"-96.8\" font-family=\"Helvetica,sans-Serif\" font-size=\"14.00\">value = [1, 14]</text>\r\n",
       "</g>\r\n",
       "<!-- 15&#45;&gt;16 -->\r\n",
       "<g id=\"edge16\" class=\"edge\"><title>15&#45;&gt;16</title>\r\n",
       "<path fill=\"none\" stroke=\"black\" d=\"M510.25,-188.992C504.589,-180.323 498.357,-170.782 492.417,-161.685\"/>\r\n",
       "<polygon fill=\"black\" stroke=\"black\" points=\"495.236,-159.601 486.838,-153.142 489.375,-163.429 495.236,-159.601\"/>\r\n",
       "</g>\r\n",
       "<!-- 19 -->\r\n",
       "<g id=\"node20\" class=\"node\"><title>19</title>\r\n",
       "<path fill=\"#efb388\" stroke=\"black\" d=\"M622,-153C622,-153 549,-153 549,-153 543,-153 537,-147 537,-141 537,-141 537,-101 537,-101 537,-95 543,-89 549,-89 549,-89 622,-89 622,-89 628,-89 634,-95 634,-101 634,-101 634,-141 634,-141 634,-147 628,-153 622,-153\"/>\r\n",
       "<text text-anchor=\"start\" x=\"549\" y=\"-138.8\" font-family=\"Helvetica,sans-Serif\" font-size=\"14.00\">X</text>\r\n",
       "<text text-anchor=\"start\" x=\"559\" y=\"-138.8\" font-family=\"Helvetica,sans-Serif\" baseline-shift=\"sub\" font-size=\"14.00\">14</text>\r\n",
       "<text text-anchor=\"start\" x=\"573\" y=\"-138.8\" font-family=\"Helvetica,sans-Serif\" font-size=\"14.00\"> ≤ &#45;1.05</text>\r\n",
       "<text text-anchor=\"start\" x=\"548\" y=\"-124.8\" font-family=\"Helvetica,sans-Serif\" font-size=\"14.00\">gini = 0.408</text>\r\n",
       "<text text-anchor=\"start\" x=\"546\" y=\"-110.8\" font-family=\"Helvetica,sans-Serif\" font-size=\"14.00\">samples = 7</text>\r\n",
       "<text text-anchor=\"start\" x=\"545\" y=\"-96.8\" font-family=\"Helvetica,sans-Serif\" font-size=\"14.00\">value = [5, 2]</text>\r\n",
       "</g>\r\n",
       "<!-- 15&#45;&gt;19 -->\r\n",
       "<g id=\"edge19\" class=\"edge\"><title>15&#45;&gt;19</title>\r\n",
       "<path fill=\"none\" stroke=\"black\" d=\"M547.902,-188.992C552.717,-180.413 558.012,-170.978 563.07,-161.966\"/>\r\n",
       "<polygon fill=\"black\" stroke=\"black\" points=\"566.18,-163.576 568.022,-153.142 560.076,-160.15 566.18,-163.576\"/>\r\n",
       "</g>\r\n",
       "<!-- 17 -->\r\n",
       "<g id=\"node18\" class=\"node\"><title>17</title>\r\n",
       "<path fill=\"#e58139\" stroke=\"black\" d=\"M384,-53C384,-53 311,-53 311,-53 305,-53 299,-47 299,-41 299,-41 299,-12 299,-12 299,-6 305,-0 311,-0 311,-0 384,-0 384,-0 390,-0 396,-6 396,-12 396,-12 396,-41 396,-41 396,-47 390,-53 384,-53\"/>\r\n",
       "<text text-anchor=\"start\" x=\"318.5\" y=\"-37.8\" font-family=\"Helvetica,sans-Serif\" font-size=\"14.00\">gini = 0.0</text>\r\n",
       "<text text-anchor=\"start\" x=\"308\" y=\"-22.8\" font-family=\"Helvetica,sans-Serif\" font-size=\"14.00\">samples = 1</text>\r\n",
       "<text text-anchor=\"start\" x=\"307\" y=\"-7.8\" font-family=\"Helvetica,sans-Serif\" font-size=\"14.00\">value = [1, 0]</text>\r\n",
       "</g>\r\n",
       "<!-- 16&#45;&gt;17 -->\r\n",
       "<g id=\"edge17\" class=\"edge\"><title>16&#45;&gt;17</title>\r\n",
       "<path fill=\"none\" stroke=\"black\" d=\"M426.544,-88.9415C414.247,-79.3835 400.699,-68.8518 388.344,-59.2482\"/>\r\n",
       "<polygon fill=\"black\" stroke=\"black\" points=\"390.466,-56.4646 380.422,-53.0908 386.17,-61.9913 390.466,-56.4646\"/>\r\n",
       "</g>\r\n",
       "<!-- 18 -->\r\n",
       "<g id=\"node19\" class=\"node\"><title>18</title>\r\n",
       "<path fill=\"#399de5\" stroke=\"black\" d=\"M507,-53C507,-53 426,-53 426,-53 420,-53 414,-47 414,-41 414,-41 414,-12 414,-12 414,-6 420,-0 426,-0 426,-0 507,-0 507,-0 513,-0 519,-6 519,-12 519,-12 519,-41 519,-41 519,-47 513,-53 507,-53\"/>\r\n",
       "<text text-anchor=\"start\" x=\"437.5\" y=\"-37.8\" font-family=\"Helvetica,sans-Serif\" font-size=\"14.00\">gini = 0.0</text>\r\n",
       "<text text-anchor=\"start\" x=\"423\" y=\"-22.8\" font-family=\"Helvetica,sans-Serif\" font-size=\"14.00\">samples = 14</text>\r\n",
       "<text text-anchor=\"start\" x=\"422\" y=\"-7.8\" font-family=\"Helvetica,sans-Serif\" font-size=\"14.00\">value = [0, 14]</text>\r\n",
       "</g>\r\n",
       "<!-- 16&#45;&gt;18 -->\r\n",
       "<g id=\"edge18\" class=\"edge\"><title>16&#45;&gt;18</title>\r\n",
       "<path fill=\"none\" stroke=\"black\" d=\"M466.5,-88.9415C466.5,-80.6579 466.5,-71.643 466.5,-63.1346\"/>\r\n",
       "<polygon fill=\"black\" stroke=\"black\" points=\"470,-63.0908 466.5,-53.0908 463,-63.0909 470,-63.0908\"/>\r\n",
       "</g>\r\n",
       "<!-- 20 -->\r\n",
       "<g id=\"node21\" class=\"node\"><title>20</title>\r\n",
       "<path fill=\"#399de5\" stroke=\"black\" d=\"M622,-53C622,-53 549,-53 549,-53 543,-53 537,-47 537,-41 537,-41 537,-12 537,-12 537,-6 543,-0 549,-0 549,-0 622,-0 622,-0 628,-0 634,-6 634,-12 634,-12 634,-41 634,-41 634,-47 628,-53 622,-53\"/>\r\n",
       "<text text-anchor=\"start\" x=\"556.5\" y=\"-37.8\" font-family=\"Helvetica,sans-Serif\" font-size=\"14.00\">gini = 0.0</text>\r\n",
       "<text text-anchor=\"start\" x=\"546\" y=\"-22.8\" font-family=\"Helvetica,sans-Serif\" font-size=\"14.00\">samples = 2</text>\r\n",
       "<text text-anchor=\"start\" x=\"545\" y=\"-7.8\" font-family=\"Helvetica,sans-Serif\" font-size=\"14.00\">value = [0, 2]</text>\r\n",
       "</g>\r\n",
       "<!-- 19&#45;&gt;20 -->\r\n",
       "<g id=\"edge20\" class=\"edge\"><title>19&#45;&gt;20</title>\r\n",
       "<path fill=\"none\" stroke=\"black\" d=\"M585.5,-88.9415C585.5,-80.6579 585.5,-71.643 585.5,-63.1346\"/>\r\n",
       "<polygon fill=\"black\" stroke=\"black\" points=\"589,-63.0908 585.5,-53.0908 582,-63.0909 589,-63.0908\"/>\r\n",
       "</g>\r\n",
       "<!-- 21 -->\r\n",
       "<g id=\"node22\" class=\"node\"><title>21</title>\r\n",
       "<path fill=\"#e58139\" stroke=\"black\" d=\"M737,-53C737,-53 664,-53 664,-53 658,-53 652,-47 652,-41 652,-41 652,-12 652,-12 652,-6 658,-0 664,-0 664,-0 737,-0 737,-0 743,-0 749,-6 749,-12 749,-12 749,-41 749,-41 749,-47 743,-53 737,-53\"/>\r\n",
       "<text text-anchor=\"start\" x=\"671.5\" y=\"-37.8\" font-family=\"Helvetica,sans-Serif\" font-size=\"14.00\">gini = 0.0</text>\r\n",
       "<text text-anchor=\"start\" x=\"661\" y=\"-22.8\" font-family=\"Helvetica,sans-Serif\" font-size=\"14.00\">samples = 5</text>\r\n",
       "<text text-anchor=\"start\" x=\"660\" y=\"-7.8\" font-family=\"Helvetica,sans-Serif\" font-size=\"14.00\">value = [5, 0]</text>\r\n",
       "</g>\r\n",
       "<!-- 19&#45;&gt;21 -->\r\n",
       "<g id=\"edge21\" class=\"edge\"><title>19&#45;&gt;21</title>\r\n",
       "<path fill=\"none\" stroke=\"black\" d=\"M624.113,-88.9415C635.883,-79.4746 648.84,-69.0523 660.688,-59.5228\"/>\r\n",
       "<polygon fill=\"black\" stroke=\"black\" points=\"663.086,-62.0857 668.684,-53.0908 658.699,-56.6312 663.086,-62.0857\"/>\r\n",
       "</g>\r\n",
       "</g>\r\n",
       "</svg>\r\n"
      ],
      "text/plain": [
       "<graphviz.files.Source at 0x2367d5db820>"
      ]
     },
     "execution_count": 45,
     "metadata": {},
     "output_type": "execute_result"
    }
   ],
   "source": [
    "dot_data = tree.export_graphviz(clf, out_file=None,  \n",
    "                      filled=True, rounded=True,  \n",
    "                      special_characters=True)  \n",
    "graph = graphviz.Source(dot_data)  \n",
    "graph "
   ]
  },
  {
   "cell_type": "code",
   "execution_count": 46,
   "metadata": {},
   "outputs": [],
   "source": [
    "from sklearn.model_selection import train_test_split\n",
    "from sklearn.ensemble import RandomForestClassifier\n",
    "X_train, X_test, y_train, y_test=train_test_split(X,y,test_size=0.3)"
   ]
  },
  {
   "cell_type": "code",
   "execution_count": 69,
   "metadata": {},
   "outputs": [
    {
     "data": {
      "text/plain": [
       "RandomForestClassifier(n_estimators=40)"
      ]
     },
     "execution_count": 69,
     "metadata": {},
     "output_type": "execute_result"
    }
   ],
   "source": [
    "model=RandomForestClassifier(n_estimators=40)\n",
    "model.fit(X_train,y_train)"
   ]
  },
  {
   "cell_type": "code",
   "execution_count": 70,
   "metadata": {},
   "outputs": [
    {
     "data": {
      "text/plain": [
       "0.7"
      ]
     },
     "execution_count": 70,
     "metadata": {},
     "output_type": "execute_result"
    }
   ],
   "source": [
    "model.score(X_test,y_test)"
   ]
  },
  {
   "cell_type": "code",
   "execution_count": null,
   "metadata": {},
   "outputs": [],
   "source": []
  }
 ],
 "metadata": {
  "kernelspec": {
   "display_name": "Python 3",
   "language": "python",
   "name": "python3"
  },
  "language_info": {
   "codemirror_mode": {
    "name": "ipython",
    "version": 3
   },
   "file_extension": ".py",
   "mimetype": "text/x-python",
   "name": "python",
   "nbconvert_exporter": "python",
   "pygments_lexer": "ipython3",
   "version": "3.8.5"
  }
 },
 "nbformat": 4,
 "nbformat_minor": 4
}
